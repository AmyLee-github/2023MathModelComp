{
 "cells": [
  {
   "cell_type": "markdown",
   "metadata": {
    "collapsed": true,
    "pycharm": {
     "name": "#%% md\n"
    }
   },
   "source": [
    "### 0.准备工作"
   ]
  },
  {
   "cell_type": "code",
   "execution_count": 313,
   "outputs": [],
   "source": [
    "import pandas as pd\n",
    "import numpy as np\n",
    "import os\n",
    "import matplotlib.pyplot as plt\n",
    "import matplotlib.font_manager as font_manager\n",
    "from sklearn.ensemble import RandomForestRegressor"
   ],
   "metadata": {
    "collapsed": false,
    "pycharm": {
     "name": "#%%\n"
    }
   }
  },
  {
   "cell_type": "code",
   "execution_count": 314,
   "outputs": [],
   "source": [
    "font_path = 'C:\\Windows\\Fonts\\simhei.ttf'  # 指定你的字体文件路径\n",
    "font_prop = font_manager.FontProperties(fname=font_path, size=12)"
   ],
   "metadata": {
    "collapsed": false,
    "pycharm": {
     "name": "#%%\n"
    }
   }
  },
  {
   "cell_type": "code",
   "execution_count": 315,
   "outputs": [],
   "source": [
    "# 文件夹路径\n",
    "folder_path = 'data'\n",
    "# Excel文件名\n",
    "table1_file='表1-患者列表及临床信息.xlsx'\n",
    "table2_file = '表2-患者影像信息血肿及水肿的体积及位置.xlsx'\n",
    "attach1_file='附表1-检索表格-流水号vs时间(1).xlsx'\n",
    "# 构建完整文件路径\n",
    "table1_path=os.path.join(folder_path, table1_file)\n",
    "table2_path = os.path.join(folder_path, table2_file)\n",
    "attach1_path=os.path.join(folder_path, attach1_file)\n",
    "# 读取Excel文件\n",
    "table1=pd.read_excel(table1_path)\n",
    "table2 = pd.read_excel(table2_path)\n",
    "attach1=pd.read_excel(attach1_path)"
   ],
   "metadata": {
    "collapsed": false,
    "pycharm": {
     "name": "#%%\n"
    }
   }
  },
  {
   "cell_type": "code",
   "execution_count": 316,
   "outputs": [
    {
     "name": "stdout",
     "output_type": "stream",
     "text": [
      "    Unnamed: 0  90天mRS 数据集划分     入院首次影像检查流水号  年龄 性别  脑出血前mRS评分  高血压病史  卒中病史  \\\n",
      "0       sub001     4.0    训练  20161212002136  43  女          0      0     0   \n",
      "1       sub002     0.0    训练  20160406002131  58  男          0      1     0   \n",
      "2       sub003     5.0    训练  20160413000006  78  男          0      1     0   \n",
      "3       sub004     4.0    训练  20161215001667  70  男          2      1     1   \n",
      "4       sub005     3.0    训练  20161222000978  51  男          0      0     0   \n",
      "..         ...     ...   ...             ...  .. ..        ...    ...   ...   \n",
      "155     sub156     NaN   测试2  20200306000927  87  女          0      1     0   \n",
      "156     sub157     NaN   测试2  20201009003102  52  男          2      1     1   \n",
      "157     sub158     NaN   测试2  20200410001952  57  男          0      1     0   \n",
      "158     sub159     NaN   测试2  20200218000582  47  男          0      1     0   \n",
      "159     sub160     NaN   测试2  20200821002584  80  女          0      1     0   \n",
      "\n",
      "     糖尿病史  ...  饮酒史  发病到首次影像检查时间间隔       血压  脑室引流  止血治疗 降颅压治疗  降压治疗  镇静、镇痛治疗  \\\n",
      "0       0  ...    0            2.5   180/90     0     1     1     1        1   \n",
      "1       0  ...    0            3.0  199/120     0     1     1     1        0   \n",
      "2       0  ...    0            2.0  199/120     0     1     1     1        1   \n",
      "3       0  ...    0            1.0   186/99     0     1     1     1        0   \n",
      "4       0  ...    0            5.0   135/92     0     1     1     0        0   \n",
      "..    ...  ...  ...            ...      ...   ...   ...   ...   ...      ...   \n",
      "155     0  ...    0            5.5  202/100     0     1     1     1        0   \n",
      "156     0  ...    0            0.5  180/110     1     0     1     1        1   \n",
      "157     0  ...    0            2.8  233/135     0     1     1     1        1   \n",
      "158     0  ...    1            3.0  183/122     0     1     1     1        1   \n",
      "159     1  ...    0            4.0   208/95     1     1     1     1        1   \n",
      "\n",
      "     止吐护胃  营养神经  \n",
      "0       1     1  \n",
      "1       1     1  \n",
      "2       1     1  \n",
      "3       0     0  \n",
      "4       1     1  \n",
      "..    ...   ...  \n",
      "155     1     1  \n",
      "156     1     1  \n",
      "157     1     1  \n",
      "158     1     1  \n",
      "159     1     1  \n",
      "\n",
      "[160 rows x 23 columns]\n",
      "Unnamed: 0        object\n",
      "90天mRS           float64\n",
      "数据集划分             object\n",
      "入院首次影像检查流水号        int64\n",
      "年龄                 int64\n",
      "性别                object\n",
      "脑出血前mRS评分          int64\n",
      "高血压病史              int64\n",
      "卒中病史               int64\n",
      "糖尿病史               int64\n",
      "房颤史                int64\n",
      "冠心病史               int64\n",
      "吸烟史                int64\n",
      "饮酒史                int64\n",
      "发病到首次影像检查时间间隔    float64\n",
      "血压                object\n",
      "脑室引流               int64\n",
      "止血治疗               int64\n",
      "降颅压治疗              int64\n",
      "降压治疗               int64\n",
      "镇静、镇痛治疗            int64\n",
      "止吐护胃               int64\n",
      "营养神经               int64\n",
      "dtype: object\n"
     ]
    }
   ],
   "source": [
    "print(table1)\n",
    "print(table1.dtypes)"
   ],
   "metadata": {
    "collapsed": false,
    "pycharm": {
     "name": "#%%\n"
    }
   }
  },
  {
   "cell_type": "code",
   "execution_count": 317,
   "outputs": [
    {
     "name": "stdout",
     "output_type": "stream",
     "text": [
      "         ID         首次检查流水号  HM_volume  HM_ACA_R_Ratio  HM_MCA_R_Ratio  \\\n",
      "0    sub001  20161212002136      69714        0.000258        0.877112   \n",
      "1    sub002  20160406002131      47500        0.496000        0.180779   \n",
      "2    sub003  20160413000006      86396        0.053718        0.829078   \n",
      "3    sub004  20161215001667      45498        0.002242        0.002198   \n",
      "4    sub005  20161222000978      14832        0.000000        0.000000   \n",
      "..      ...             ...        ...             ...             ...   \n",
      "155  sub156  20200306000927      32559        0.000000        0.033754   \n",
      "156  sub157  20201009003102      18150        0.000000        0.000000   \n",
      "157  sub158  20200410001952      27969        0.002682        0.937359   \n",
      "158  sub159  20200218000582      53154        0.000000        0.000000   \n",
      "159  sub160  20200821002584      49019        0.000000        0.907505   \n",
      "\n",
      "     HM_PCA_R_Ratio  HM_Pons_Medulla_R_Ratio  HM_Cerebellum_R_Ratio  \\\n",
      "0          0.120148                 0.000000                    0.0   \n",
      "1          0.302316                 0.000000                    0.0   \n",
      "2          0.099681                 0.000197                    0.0   \n",
      "3          0.029100                 0.000374                    0.0   \n",
      "4          0.001146                 0.000337                    0.0   \n",
      "..              ...                      ...                    ...   \n",
      "155        0.000000                 0.000000                    0.0   \n",
      "156        0.000000                 0.000000                    0.0   \n",
      "157        0.059959                 0.000000                    0.0   \n",
      "158        0.000000                 0.000000                    0.0   \n",
      "159        0.092372                 0.000000                    0.0   \n",
      "\n",
      "     HM_ACA_L_Ratio  HM_MCA_L_Ratio  ...  ED_ACA_R_Ratio.8  ED_MCA_R_Ratio.8  \\\n",
      "0          0.000000        0.000000  ...               NaN               NaN   \n",
      "1          0.003032        0.000000  ...               NaN               NaN   \n",
      "2          0.000000        0.000000  ...               NaN               NaN   \n",
      "3          0.163458        0.313618  ...               NaN               NaN   \n",
      "4          0.000202        0.413363  ...               NaN               NaN   \n",
      "..              ...             ...  ...               ...               ...   \n",
      "155        0.038545        0.922049  ...               NaN               NaN   \n",
      "156        0.000000        0.997410  ...               NaN               NaN   \n",
      "157        0.000000        0.000000  ...               NaN               NaN   \n",
      "158        0.004572        0.857678  ...               NaN               NaN   \n",
      "159        0.000000        0.000000  ...               NaN               NaN   \n",
      "\n",
      "     ED_PCA_R_Ratio.8  ED_Pons_Medulla_R_Ratio.8  ED_Cerebellum_R_Ratio.8  \\\n",
      "0                 NaN                        NaN                      NaN   \n",
      "1                 NaN                        NaN                      NaN   \n",
      "2                 NaN                        NaN                      NaN   \n",
      "3                 NaN                        NaN                      NaN   \n",
      "4                 NaN                        NaN                      NaN   \n",
      "..                ...                        ...                      ...   \n",
      "155               NaN                        NaN                      NaN   \n",
      "156               NaN                        NaN                      NaN   \n",
      "157               NaN                        NaN                      NaN   \n",
      "158               NaN                        NaN                      NaN   \n",
      "159               NaN                        NaN                      NaN   \n",
      "\n",
      "     ED_ACA_L_Ratio.8  ED_MCA_L_Ratio.8  ED_PCA_L_Ratio.8  \\\n",
      "0                 NaN               NaN               NaN   \n",
      "1                 NaN               NaN               NaN   \n",
      "2                 NaN               NaN               NaN   \n",
      "3                 NaN               NaN               NaN   \n",
      "4                 NaN               NaN               NaN   \n",
      "..                ...               ...               ...   \n",
      "155               NaN               NaN               NaN   \n",
      "156               NaN               NaN               NaN   \n",
      "157               NaN               NaN               NaN   \n",
      "158               NaN               NaN               NaN   \n",
      "159               NaN               NaN               NaN   \n",
      "\n",
      "     ED_Pons_Medulla_L_Ratio.8  ED_Cerebellum_L_Ratio.8  \n",
      "0                          NaN                      NaN  \n",
      "1                          NaN                      NaN  \n",
      "2                          NaN                      NaN  \n",
      "3                          NaN                      NaN  \n",
      "4                          NaN                      NaN  \n",
      "..                         ...                      ...  \n",
      "155                        NaN                      NaN  \n",
      "156                        NaN                      NaN  \n",
      "157                        NaN                      NaN  \n",
      "158                        NaN                      NaN  \n",
      "159                        NaN                      NaN  \n",
      "\n",
      "[160 rows x 208 columns]\n"
     ]
    }
   ],
   "source": [
    "print(table2)"
   ],
   "metadata": {
    "collapsed": false,
    "pycharm": {
     "name": "#%%\n"
    }
   }
  },
  {
   "cell_type": "code",
   "execution_count": 318,
   "outputs": [
    {
     "name": "stdout",
     "output_type": "stream",
     "text": [
      "    Unnamed: 0  重复次数           入院首次检查时间点       入院首次检查流水号              随访1时间点  \\\n",
      "0       sub001     5 2016-12-12 23:32:54  20161212002136 2016-12-13 05:19:00   \n",
      "1       sub002     5 2016-04-06 21:21:03  20160406002131 2016-04-07 09:16:27   \n",
      "2       sub003     3 2016-04-13 01:18:17  20160413000006 2016-04-13 08:49:38   \n",
      "3       sub004     4 2016-12-15 22:53:41  20161215001667 2016-12-16 14:52:08   \n",
      "4       sub005     3 2016-12-22 13:18:48  20161222000978 2016-12-23 10:46:51   \n",
      "..         ...   ...                 ...             ...                 ...   \n",
      "155     sub156     4 2020-03-06 14:33:56  20200306000927 2020-03-07 09:56:51   \n",
      "156     sub157     4 2020-10-09 19:35:00  20201009003102 2020-10-09 20:27:00   \n",
      "157     sub158     4 2020-04-10 17:40:00  20200410001952 2020-04-11 09:15:00   \n",
      "158     sub159     2 2020-02-18 15:29:00  20200218000582 2020-02-19 15:01:00   \n",
      "159     sub160     2 2020-08-21 22:32:00  20200821002584 2020-08-22 12:01:00   \n",
      "\n",
      "             随访1流水号              随访2时间点        随访2流水号              随访3时间点  \\\n",
      "0    20161213000009 2016-12-18 09:09:24  2.016122e+13 2016-12-23 16:47:09   \n",
      "1    20160407000424 2016-04-09 15:34:22  2.016041e+13 2016-04-25 10:22:02   \n",
      "2    20160413000428 2016-04-14 14:54:02  2.016041e+13                 NaT   \n",
      "3    20161216001119 2016-12-19 09:44:24  2.016122e+13 2016-12-25 09:23:45   \n",
      "4    20161223000561 2016-12-26 10:15:23  2.016123e+13                 NaT   \n",
      "..              ...                 ...           ...                 ...   \n",
      "155  20200307000267 2020-03-11 14:40:53  2.020031e+13 2020-03-18 14:22:58   \n",
      "156  20201009003124 2020-10-10 02:12:00  2.020101e+13 2020-10-10 15:09:00   \n",
      "157  20200411000244 2020-04-13 14:10:00  2.020041e+13 2020-04-23 11:31:00   \n",
      "158  20200219000588                 NaT           NaN                 NaT   \n",
      "159  20200822000947                 NaT           NaN                 NaT   \n",
      "\n",
      "           随访3流水号  ... Unnamed: 98  Unnamed: 99 Unnamed: 100  Unnamed: 101  \\\n",
      "0    2.016122e+13  ...         NaN          NaN          NaT           NaN   \n",
      "1    2.016043e+13  ...         NaN          NaN          NaT           NaN   \n",
      "2             NaN  ...         NaN          NaN          NaT           NaN   \n",
      "3    2.016123e+13  ...         NaN          NaN          NaT           NaN   \n",
      "4             NaN  ...         NaN          NaN          NaT           NaN   \n",
      "..            ...  ...         ...          ...          ...           ...   \n",
      "155  2.020032e+13  ...         NaN          NaN          NaT           NaN   \n",
      "156  2.020101e+13  ...         NaN          NaN          NaT           NaN   \n",
      "157  2.020042e+13  ...         NaN          NaN          NaT           NaN   \n",
      "158           NaN  ...         NaN          NaN          NaT           NaN   \n",
      "159           NaN  ...         NaN          NaN          NaT           NaN   \n",
      "\n",
      "    Unnamed: 102  Unnamed: 103 Unnamed: 104  Unnamed: 105 Unnamed: 106  \\\n",
      "0            NaN           NaN          NaN           NaN          NaN   \n",
      "1            NaN           NaN          NaN           NaN          NaN   \n",
      "2            NaN           NaN          NaN           NaN          NaN   \n",
      "3            NaN           NaN          NaN           NaN          NaN   \n",
      "4            NaN           NaN          NaN           NaN          NaN   \n",
      "..           ...           ...          ...           ...          ...   \n",
      "155          NaN           NaN          NaN           NaN          NaN   \n",
      "156          NaN           NaN          NaN           NaN          NaN   \n",
      "157          NaN           NaN          NaN           NaN          NaN   \n",
      "158          NaN           NaN          NaN           NaN          NaN   \n",
      "159          NaN           NaN          NaN           NaN          NaN   \n",
      "\n",
      "     Unnamed: 107  \n",
      "0             NaN  \n",
      "1             NaN  \n",
      "2             NaN  \n",
      "3             NaN  \n",
      "4             NaN  \n",
      "..            ...  \n",
      "155           NaN  \n",
      "156           NaN  \n",
      "157           NaN  \n",
      "158           NaN  \n",
      "159           NaN  \n",
      "\n",
      "[160 rows x 108 columns]\n"
     ]
    }
   ],
   "source": [
    "print(attach1)"
   ],
   "metadata": {
    "collapsed": false,
    "pycharm": {
     "name": "#%%\n"
    }
   }
  },
  {
   "cell_type": "markdown",
   "source": [
    "### 1.数据分析"
   ],
   "metadata": {
    "collapsed": false,
    "pycharm": {
     "name": "#%% md\n"
    }
   }
  },
  {
   "cell_type": "code",
   "execution_count": 319,
   "outputs": [
    {
     "name": "stdout",
     "output_type": "stream",
     "text": [
      "0     2.5\n",
      "1     3.0\n",
      "2     2.0\n",
      "3     1.0\n",
      "4     5.0\n",
      "     ... \n",
      "95    1.0\n",
      "96    3.0\n",
      "97    2.5\n",
      "98    3.0\n",
      "99    0.5\n",
      "Name: 发病到首次影像检查时间间隔, Length: 100, dtype: float64\n"
     ]
    }
   ],
   "source": [
    "table1_a_1=table1.loc[0:99,'发病到首次影像检查时间间隔']\n",
    "print(table1_a_1)"
   ],
   "metadata": {
    "collapsed": false,
    "pycharm": {
     "name": "#%%\n"
    }
   }
  },
  {
   "cell_type": "code",
   "execution_count": 320,
   "outputs": [
    {
     "name": "stdout",
     "output_type": "stream",
     "text": [
      "        ID         首次检查流水号  ED_volume        随访1流水号  ED_volume.1  \\\n",
      "0   sub001  20161212002136      48919  2.016121e+13      57898.0   \n",
      "1   sub002  20160406002131      23526  2.016041e+13      23390.0   \n",
      "2   sub003  20160413000006      32621  2.016041e+13      41292.0   \n",
      "3   sub004  20161215001667      22191  2.016122e+13      18956.0   \n",
      "4   sub005  20161222000978      47392  2.016122e+13      23182.0   \n",
      "..     ...             ...        ...           ...          ...   \n",
      "95  sub096  20180802001789       5951  2.018080e+13       6094.0   \n",
      "96  sub097  20181010000767      10227  2.018101e+13       8635.0   \n",
      "97  sub098  20180612002507      39868  2.018061e+13      29007.0   \n",
      "98  sub099  20180620002296       9653  2.018062e+13      19517.0   \n",
      "99  sub100  20180314000010       7367  2.018032e+13       6033.0   \n",
      "\n",
      "          随访2流水号  ED_volume.2        随访3流水号  ED_volume.3        随访4流水号  \\\n",
      "0   2.016122e+13      81747.0  2.016122e+13     107793.0  2.016123e+13   \n",
      "1   2.016041e+13      28415.0  2.016043e+13      34868.0  2.016052e+13   \n",
      "2   2.016041e+13      49767.0           NaN          NaN           NaN   \n",
      "3   2.016122e+13       9540.0  2.016123e+13       5204.0           NaN   \n",
      "4   2.016123e+13      12898.0           NaN          NaN           NaN   \n",
      "..           ...          ...           ...          ...           ...   \n",
      "95  2.018081e+13       9911.0  2.018081e+13      11687.0  2.018082e+13   \n",
      "96  2.018102e+13       1316.0           NaN          NaN           NaN   \n",
      "97  2.018062e+13      26426.0  2.018071e+13      40666.0  2.018072e+13   \n",
      "98  2.018062e+13      30933.0           NaN          NaN           NaN   \n",
      "99  2.018032e+13       3191.0           NaN          NaN           NaN   \n",
      "\n",
      "    ED_volume.4        随访5流水号  ED_volume.5  随访6流水号  ED_volume.6  随访7流水号  \\\n",
      "0      126558.0           NaN          NaN     NaN          NaN     NaN   \n",
      "1           0.0           NaN          NaN     NaN          NaN     NaN   \n",
      "2           NaN           NaN          NaN     NaN          NaN     NaN   \n",
      "3           NaN           NaN          NaN     NaN          NaN     NaN   \n",
      "4           NaN           NaN          NaN     NaN          NaN     NaN   \n",
      "..          ...           ...          ...     ...          ...     ...   \n",
      "95        231.0  2.018083e+13          0.0     NaN          NaN     NaN   \n",
      "96          NaN           NaN          NaN     NaN          NaN     NaN   \n",
      "97      17288.0           NaN          NaN     NaN          NaN     NaN   \n",
      "98          NaN           NaN          NaN     NaN          NaN     NaN   \n",
      "99          NaN           NaN          NaN     NaN          NaN     NaN   \n",
      "\n",
      "    ED_volume.7  随访8流水号  ED_volume.8  \n",
      "0           NaN     NaN          NaN  \n",
      "1           NaN     NaN          NaN  \n",
      "2           NaN     NaN          NaN  \n",
      "3           NaN     NaN          NaN  \n",
      "4           NaN     NaN          NaN  \n",
      "..          ...     ...          ...  \n",
      "95          NaN     NaN          NaN  \n",
      "96          NaN     NaN          NaN  \n",
      "97          NaN     NaN          NaN  \n",
      "98          NaN     NaN          NaN  \n",
      "99          NaN     NaN          NaN  \n",
      "\n",
      "[100 rows x 19 columns]\n"
     ]
    }
   ],
   "source": [
    "table2_a_1 = table2.iloc[0:100, [0,1,13,24,36,47,59,70,82,93,105,116,128,139,151,162,174,185,197]]\n",
    "print(table2_a_1)"
   ],
   "metadata": {
    "collapsed": false,
    "pycharm": {
     "name": "#%%\n"
    }
   }
  },
  {
   "cell_type": "code",
   "execution_count": 321,
   "outputs": [
    {
     "name": "stdout",
     "output_type": "stream",
     "text": [
      "   Unnamed: 0           入院首次检查时间点       入院首次检查流水号              随访1时间点  \\\n",
      "0      sub001 2016-12-12 23:32:54  20161212002136 2016-12-13 05:19:00   \n",
      "1      sub002 2016-04-06 21:21:03  20160406002131 2016-04-07 09:16:27   \n",
      "2      sub003 2016-04-13 01:18:17  20160413000006 2016-04-13 08:49:38   \n",
      "3      sub004 2016-12-15 22:53:41  20161215001667 2016-12-16 14:52:08   \n",
      "4      sub005 2016-12-22 13:18:48  20161222000978 2016-12-23 10:46:51   \n",
      "..        ...                 ...             ...                 ...   \n",
      "95     sub096 2018-08-02 19:28:50  20180802001789 2018-08-03 08:14:31   \n",
      "96     sub097 2018-10-10 09:21:10  20181010000767 2018-10-11 14:16:42   \n",
      "97     sub098 2018-06-12 22:32:20  20180612002507 2018-06-14 14:47:44   \n",
      "98     sub099 2018-06-20 19:03:09  20180620002296 2018-06-21 09:43:31   \n",
      "99     sub100 2018-03-14 04:46:39  20180314000010 2018-03-15 15:00:31   \n",
      "\n",
      "            随访1流水号              随访2时间点        随访2流水号              随访3时间点  \\\n",
      "0   20161213000009 2016-12-18 09:09:24  2.016122e+13 2016-12-23 16:47:09   \n",
      "1   20160407000424 2016-04-09 15:34:22  2.016041e+13 2016-04-25 10:22:02   \n",
      "2   20160413000428 2016-04-14 14:54:02  2.016041e+13                 NaT   \n",
      "3   20161216001119 2016-12-19 09:44:24  2.016122e+13 2016-12-25 09:23:45   \n",
      "4   20161223000561 2016-12-26 10:15:23  2.016123e+13                 NaT   \n",
      "..             ...                 ...           ...                 ...   \n",
      "95  20180803000170 2018-08-06 10:27:39  2.018081e+13 2018-08-13 09:35:59   \n",
      "96  20181011001620 2018-10-17 09:45:11  2.018102e+13                 NaT   \n",
      "97  20180614001471 2018-06-20 15:41:45  2.018062e+13 2018-07-06 14:32:09   \n",
      "98  20180621000781 2018-06-22 10:34:55  2.018062e+13                 NaT   \n",
      "99  20180315001448 2018-03-22 09:30:51  2.018032e+13                 NaT   \n",
      "\n",
      "          随访3流水号              随访4时间点        随访4流水号              随访5时间点  \\\n",
      "0   2.016122e+13 2016-12-30 14:35:12  2.016123e+13                 NaT   \n",
      "1   2.016043e+13 2016-05-23 09:32:34  2.016052e+13                 NaT   \n",
      "2            NaN                 NaT           NaN                 NaT   \n",
      "3   2.016123e+13                 NaT           NaN                 NaT   \n",
      "4            NaN                 NaT           NaN                 NaT   \n",
      "..           ...                 ...           ...                 ...   \n",
      "95  2.018081e+13 2018-08-20 09:58:54  2.018082e+13 2018-08-27 14:07:24   \n",
      "96           NaN                 NaT           NaN                 NaT   \n",
      "97  2.018071e+13 2018-07-20 11:24:26  2.018072e+13                 NaT   \n",
      "98           NaN                 NaT           NaN                 NaT   \n",
      "99           NaN                 NaT           NaN                 NaT   \n",
      "\n",
      "          随访5流水号 随访6时间点  随访6流水号 随访7时间点  随访7流水号 随访8时间点  随访8流水号  \n",
      "0            NaN    NaT     NaN    NaT     NaN    NaT     NaN  \n",
      "1            NaN    NaT     NaN    NaT     NaN    NaT     NaN  \n",
      "2            NaN    NaT     NaN    NaT     NaN    NaT     NaN  \n",
      "3            NaN    NaT     NaN    NaT     NaN    NaT     NaN  \n",
      "4            NaN    NaT     NaN    NaT     NaN    NaT     NaN  \n",
      "..           ...    ...     ...    ...     ...    ...     ...  \n",
      "95  2.018083e+13    NaT     NaN    NaT     NaN    NaT     NaN  \n",
      "96           NaN    NaT     NaN    NaT     NaN    NaT     NaN  \n",
      "97           NaN    NaT     NaN    NaT     NaN    NaT     NaN  \n",
      "98           NaN    NaT     NaN    NaT     NaN    NaT     NaN  \n",
      "99           NaN    NaT     NaN    NaT     NaN    NaT     NaN  \n",
      "\n",
      "[100 rows x 19 columns]\n"
     ]
    }
   ],
   "source": [
    "attach1_a_1=attach1.iloc[0:100,0:20]\n",
    "attach1_a_1=attach1_a_1.drop('重复次数',axis=1)\n",
    "print(attach1_a_1)"
   ],
   "metadata": {
    "collapsed": false,
    "pycharm": {
     "name": "#%%\n"
    }
   }
  },
  {
   "cell_type": "code",
   "execution_count": 322,
   "outputs": [
    {
     "data": {
      "text/plain": "        ID         首次检查流水号  ED_volume        随访1流水号  ED_volume.1  \\\n0   sub001  20161212002136      48919  2.016121e+13      57898.0   \n1   sub002  20160406002131      23526  2.016041e+13      23390.0   \n2   sub003  20160413000006      32621  2.016041e+13      41292.0   \n3   sub004  20161215001667      22191  2.016122e+13      18956.0   \n4   sub005  20161222000978      47392  2.016122e+13      23182.0   \n..     ...             ...        ...           ...          ...   \n95  sub096  20180802001789       5951  2.018080e+13       6094.0   \n96  sub097  20181010000767      10227  2.018101e+13       8635.0   \n97  sub098  20180612002507      39868  2.018061e+13      29007.0   \n98  sub099  20180620002296       9653  2.018062e+13      19517.0   \n99  sub100  20180314000010       7367  2.018032e+13       6033.0   \n\n          随访2流水号  ED_volume.2        随访3流水号  ED_volume.3        随访4流水号  \\\n0   2.016122e+13      81747.0  2.016122e+13     107793.0  2.016123e+13   \n1   2.016041e+13      28415.0  2.016043e+13      34868.0  2.016052e+13   \n2   2.016041e+13      49767.0           NaN          NaN           NaN   \n3   2.016122e+13       9540.0  2.016123e+13       5204.0           NaN   \n4   2.016123e+13      12898.0           NaN          NaN           NaN   \n..           ...          ...           ...          ...           ...   \n95  2.018081e+13       9911.0  2.018081e+13      11687.0  2.018082e+13   \n96  2.018102e+13       1316.0           NaN          NaN           NaN   \n97  2.018062e+13      26426.0  2.018071e+13      40666.0  2.018072e+13   \n98  2.018062e+13      30933.0           NaN          NaN           NaN   \n99  2.018032e+13       3191.0           NaN          NaN           NaN   \n\n    ED_volume.4        随访5流水号  ED_volume.5  随访6流水号  ED_volume.6  随访7流水号  \\\n0      126558.0           NaN          NaN     NaN          NaN     NaN   \n1           0.0           NaN          NaN     NaN          NaN     NaN   \n2           NaN           NaN          NaN     NaN          NaN     NaN   \n3           NaN           NaN          NaN     NaN          NaN     NaN   \n4           NaN           NaN          NaN     NaN          NaN     NaN   \n..          ...           ...          ...     ...          ...     ...   \n95        231.0  2.018083e+13          0.0     NaN          NaN     NaN   \n96          NaN           NaN          NaN     NaN          NaN     NaN   \n97      17288.0           NaN          NaN     NaN          NaN     NaN   \n98          NaN           NaN          NaN     NaN          NaN     NaN   \n99          NaN           NaN          NaN     NaN          NaN     NaN   \n\n    ED_volume.7  随访8流水号  ED_volume.8  \n0           NaN     NaN          NaN  \n1           NaN     NaN          NaN  \n2           NaN     NaN          NaN  \n3           NaN     NaN          NaN  \n4           NaN     NaN          NaN  \n..          ...     ...          ...  \n95          NaN     NaN          NaN  \n96          NaN     NaN          NaN  \n97          NaN     NaN          NaN  \n98          NaN     NaN          NaN  \n99          NaN     NaN          NaN  \n\n[100 rows x 19 columns]",
      "text/html": "<div>\n<style scoped>\n    .dataframe tbody tr th:only-of-type {\n        vertical-align: middle;\n    }\n\n    .dataframe tbody tr th {\n        vertical-align: top;\n    }\n\n    .dataframe thead th {\n        text-align: right;\n    }\n</style>\n<table border=\"1\" class=\"dataframe\">\n  <thead>\n    <tr style=\"text-align: right;\">\n      <th></th>\n      <th>ID</th>\n      <th>首次检查流水号</th>\n      <th>ED_volume</th>\n      <th>随访1流水号</th>\n      <th>ED_volume.1</th>\n      <th>随访2流水号</th>\n      <th>ED_volume.2</th>\n      <th>随访3流水号</th>\n      <th>ED_volume.3</th>\n      <th>随访4流水号</th>\n      <th>ED_volume.4</th>\n      <th>随访5流水号</th>\n      <th>ED_volume.5</th>\n      <th>随访6流水号</th>\n      <th>ED_volume.6</th>\n      <th>随访7流水号</th>\n      <th>ED_volume.7</th>\n      <th>随访8流水号</th>\n      <th>ED_volume.8</th>\n    </tr>\n  </thead>\n  <tbody>\n    <tr>\n      <th>0</th>\n      <td>sub001</td>\n      <td>20161212002136</td>\n      <td>48919</td>\n      <td>2.016121e+13</td>\n      <td>57898.0</td>\n      <td>2.016122e+13</td>\n      <td>81747.0</td>\n      <td>2.016122e+13</td>\n      <td>107793.0</td>\n      <td>2.016123e+13</td>\n      <td>126558.0</td>\n      <td>NaN</td>\n      <td>NaN</td>\n      <td>NaN</td>\n      <td>NaN</td>\n      <td>NaN</td>\n      <td>NaN</td>\n      <td>NaN</td>\n      <td>NaN</td>\n    </tr>\n    <tr>\n      <th>1</th>\n      <td>sub002</td>\n      <td>20160406002131</td>\n      <td>23526</td>\n      <td>2.016041e+13</td>\n      <td>23390.0</td>\n      <td>2.016041e+13</td>\n      <td>28415.0</td>\n      <td>2.016043e+13</td>\n      <td>34868.0</td>\n      <td>2.016052e+13</td>\n      <td>0.0</td>\n      <td>NaN</td>\n      <td>NaN</td>\n      <td>NaN</td>\n      <td>NaN</td>\n      <td>NaN</td>\n      <td>NaN</td>\n      <td>NaN</td>\n      <td>NaN</td>\n    </tr>\n    <tr>\n      <th>2</th>\n      <td>sub003</td>\n      <td>20160413000006</td>\n      <td>32621</td>\n      <td>2.016041e+13</td>\n      <td>41292.0</td>\n      <td>2.016041e+13</td>\n      <td>49767.0</td>\n      <td>NaN</td>\n      <td>NaN</td>\n      <td>NaN</td>\n      <td>NaN</td>\n      <td>NaN</td>\n      <td>NaN</td>\n      <td>NaN</td>\n      <td>NaN</td>\n      <td>NaN</td>\n      <td>NaN</td>\n      <td>NaN</td>\n      <td>NaN</td>\n    </tr>\n    <tr>\n      <th>3</th>\n      <td>sub004</td>\n      <td>20161215001667</td>\n      <td>22191</td>\n      <td>2.016122e+13</td>\n      <td>18956.0</td>\n      <td>2.016122e+13</td>\n      <td>9540.0</td>\n      <td>2.016123e+13</td>\n      <td>5204.0</td>\n      <td>NaN</td>\n      <td>NaN</td>\n      <td>NaN</td>\n      <td>NaN</td>\n      <td>NaN</td>\n      <td>NaN</td>\n      <td>NaN</td>\n      <td>NaN</td>\n      <td>NaN</td>\n      <td>NaN</td>\n    </tr>\n    <tr>\n      <th>4</th>\n      <td>sub005</td>\n      <td>20161222000978</td>\n      <td>47392</td>\n      <td>2.016122e+13</td>\n      <td>23182.0</td>\n      <td>2.016123e+13</td>\n      <td>12898.0</td>\n      <td>NaN</td>\n      <td>NaN</td>\n      <td>NaN</td>\n      <td>NaN</td>\n      <td>NaN</td>\n      <td>NaN</td>\n      <td>NaN</td>\n      <td>NaN</td>\n      <td>NaN</td>\n      <td>NaN</td>\n      <td>NaN</td>\n      <td>NaN</td>\n    </tr>\n    <tr>\n      <th>...</th>\n      <td>...</td>\n      <td>...</td>\n      <td>...</td>\n      <td>...</td>\n      <td>...</td>\n      <td>...</td>\n      <td>...</td>\n      <td>...</td>\n      <td>...</td>\n      <td>...</td>\n      <td>...</td>\n      <td>...</td>\n      <td>...</td>\n      <td>...</td>\n      <td>...</td>\n      <td>...</td>\n      <td>...</td>\n      <td>...</td>\n      <td>...</td>\n    </tr>\n    <tr>\n      <th>95</th>\n      <td>sub096</td>\n      <td>20180802001789</td>\n      <td>5951</td>\n      <td>2.018080e+13</td>\n      <td>6094.0</td>\n      <td>2.018081e+13</td>\n      <td>9911.0</td>\n      <td>2.018081e+13</td>\n      <td>11687.0</td>\n      <td>2.018082e+13</td>\n      <td>231.0</td>\n      <td>2.018083e+13</td>\n      <td>0.0</td>\n      <td>NaN</td>\n      <td>NaN</td>\n      <td>NaN</td>\n      <td>NaN</td>\n      <td>NaN</td>\n      <td>NaN</td>\n    </tr>\n    <tr>\n      <th>96</th>\n      <td>sub097</td>\n      <td>20181010000767</td>\n      <td>10227</td>\n      <td>2.018101e+13</td>\n      <td>8635.0</td>\n      <td>2.018102e+13</td>\n      <td>1316.0</td>\n      <td>NaN</td>\n      <td>NaN</td>\n      <td>NaN</td>\n      <td>NaN</td>\n      <td>NaN</td>\n      <td>NaN</td>\n      <td>NaN</td>\n      <td>NaN</td>\n      <td>NaN</td>\n      <td>NaN</td>\n      <td>NaN</td>\n      <td>NaN</td>\n    </tr>\n    <tr>\n      <th>97</th>\n      <td>sub098</td>\n      <td>20180612002507</td>\n      <td>39868</td>\n      <td>2.018061e+13</td>\n      <td>29007.0</td>\n      <td>2.018062e+13</td>\n      <td>26426.0</td>\n      <td>2.018071e+13</td>\n      <td>40666.0</td>\n      <td>2.018072e+13</td>\n      <td>17288.0</td>\n      <td>NaN</td>\n      <td>NaN</td>\n      <td>NaN</td>\n      <td>NaN</td>\n      <td>NaN</td>\n      <td>NaN</td>\n      <td>NaN</td>\n      <td>NaN</td>\n    </tr>\n    <tr>\n      <th>98</th>\n      <td>sub099</td>\n      <td>20180620002296</td>\n      <td>9653</td>\n      <td>2.018062e+13</td>\n      <td>19517.0</td>\n      <td>2.018062e+13</td>\n      <td>30933.0</td>\n      <td>NaN</td>\n      <td>NaN</td>\n      <td>NaN</td>\n      <td>NaN</td>\n      <td>NaN</td>\n      <td>NaN</td>\n      <td>NaN</td>\n      <td>NaN</td>\n      <td>NaN</td>\n      <td>NaN</td>\n      <td>NaN</td>\n      <td>NaN</td>\n    </tr>\n    <tr>\n      <th>99</th>\n      <td>sub100</td>\n      <td>20180314000010</td>\n      <td>7367</td>\n      <td>2.018032e+13</td>\n      <td>6033.0</td>\n      <td>2.018032e+13</td>\n      <td>3191.0</td>\n      <td>NaN</td>\n      <td>NaN</td>\n      <td>NaN</td>\n      <td>NaN</td>\n      <td>NaN</td>\n      <td>NaN</td>\n      <td>NaN</td>\n      <td>NaN</td>\n      <td>NaN</td>\n      <td>NaN</td>\n      <td>NaN</td>\n      <td>NaN</td>\n    </tr>\n  </tbody>\n</table>\n<p>100 rows × 19 columns</p>\n</div>"
     },
     "execution_count": 322,
     "metadata": {},
     "output_type": "execute_result"
    }
   ],
   "source": [
    "table2_a_1"
   ],
   "metadata": {
    "collapsed": false,
    "pycharm": {
     "name": "#%%\n"
    }
   }
  },
  {
   "cell_type": "code",
   "execution_count": 323,
   "outputs": [
    {
     "data": {
      "text/plain": "   Unnamed: 0           入院首次检查时间点       入院首次检查流水号              随访1时间点  \\\n0      sub001 2016-12-12 23:32:54  20161212002136 2016-12-13 05:19:00   \n1      sub002 2016-04-06 21:21:03  20160406002131 2016-04-07 09:16:27   \n2      sub003 2016-04-13 01:18:17  20160413000006 2016-04-13 08:49:38   \n3      sub004 2016-12-15 22:53:41  20161215001667 2016-12-16 14:52:08   \n4      sub005 2016-12-22 13:18:48  20161222000978 2016-12-23 10:46:51   \n..        ...                 ...             ...                 ...   \n95     sub096 2018-08-02 19:28:50  20180802001789 2018-08-03 08:14:31   \n96     sub097 2018-10-10 09:21:10  20181010000767 2018-10-11 14:16:42   \n97     sub098 2018-06-12 22:32:20  20180612002507 2018-06-14 14:47:44   \n98     sub099 2018-06-20 19:03:09  20180620002296 2018-06-21 09:43:31   \n99     sub100 2018-03-14 04:46:39  20180314000010 2018-03-15 15:00:31   \n\n            随访1流水号              随访2时间点        随访2流水号              随访3时间点  \\\n0   20161213000009 2016-12-18 09:09:24  2.016122e+13 2016-12-23 16:47:09   \n1   20160407000424 2016-04-09 15:34:22  2.016041e+13 2016-04-25 10:22:02   \n2   20160413000428 2016-04-14 14:54:02  2.016041e+13                 NaT   \n3   20161216001119 2016-12-19 09:44:24  2.016122e+13 2016-12-25 09:23:45   \n4   20161223000561 2016-12-26 10:15:23  2.016123e+13                 NaT   \n..             ...                 ...           ...                 ...   \n95  20180803000170 2018-08-06 10:27:39  2.018081e+13 2018-08-13 09:35:59   \n96  20181011001620 2018-10-17 09:45:11  2.018102e+13                 NaT   \n97  20180614001471 2018-06-20 15:41:45  2.018062e+13 2018-07-06 14:32:09   \n98  20180621000781 2018-06-22 10:34:55  2.018062e+13                 NaT   \n99  20180315001448 2018-03-22 09:30:51  2.018032e+13                 NaT   \n\n          随访3流水号              随访4时间点        随访4流水号              随访5时间点  \\\n0   2.016122e+13 2016-12-30 14:35:12  2.016123e+13                 NaT   \n1   2.016043e+13 2016-05-23 09:32:34  2.016052e+13                 NaT   \n2            NaN                 NaT           NaN                 NaT   \n3   2.016123e+13                 NaT           NaN                 NaT   \n4            NaN                 NaT           NaN                 NaT   \n..           ...                 ...           ...                 ...   \n95  2.018081e+13 2018-08-20 09:58:54  2.018082e+13 2018-08-27 14:07:24   \n96           NaN                 NaT           NaN                 NaT   \n97  2.018071e+13 2018-07-20 11:24:26  2.018072e+13                 NaT   \n98           NaN                 NaT           NaN                 NaT   \n99           NaN                 NaT           NaN                 NaT   \n\n          随访5流水号 随访6时间点  随访6流水号 随访7时间点  随访7流水号 随访8时间点  随访8流水号  \n0            NaN    NaT     NaN    NaT     NaN    NaT     NaN  \n1            NaN    NaT     NaN    NaT     NaN    NaT     NaN  \n2            NaN    NaT     NaN    NaT     NaN    NaT     NaN  \n3            NaN    NaT     NaN    NaT     NaN    NaT     NaN  \n4            NaN    NaT     NaN    NaT     NaN    NaT     NaN  \n..           ...    ...     ...    ...     ...    ...     ...  \n95  2.018083e+13    NaT     NaN    NaT     NaN    NaT     NaN  \n96           NaN    NaT     NaN    NaT     NaN    NaT     NaN  \n97           NaN    NaT     NaN    NaT     NaN    NaT     NaN  \n98           NaN    NaT     NaN    NaT     NaN    NaT     NaN  \n99           NaN    NaT     NaN    NaT     NaN    NaT     NaN  \n\n[100 rows x 19 columns]",
      "text/html": "<div>\n<style scoped>\n    .dataframe tbody tr th:only-of-type {\n        vertical-align: middle;\n    }\n\n    .dataframe tbody tr th {\n        vertical-align: top;\n    }\n\n    .dataframe thead th {\n        text-align: right;\n    }\n</style>\n<table border=\"1\" class=\"dataframe\">\n  <thead>\n    <tr style=\"text-align: right;\">\n      <th></th>\n      <th>Unnamed: 0</th>\n      <th>入院首次检查时间点</th>\n      <th>入院首次检查流水号</th>\n      <th>随访1时间点</th>\n      <th>随访1流水号</th>\n      <th>随访2时间点</th>\n      <th>随访2流水号</th>\n      <th>随访3时间点</th>\n      <th>随访3流水号</th>\n      <th>随访4时间点</th>\n      <th>随访4流水号</th>\n      <th>随访5时间点</th>\n      <th>随访5流水号</th>\n      <th>随访6时间点</th>\n      <th>随访6流水号</th>\n      <th>随访7时间点</th>\n      <th>随访7流水号</th>\n      <th>随访8时间点</th>\n      <th>随访8流水号</th>\n    </tr>\n  </thead>\n  <tbody>\n    <tr>\n      <th>0</th>\n      <td>sub001</td>\n      <td>2016-12-12 23:32:54</td>\n      <td>20161212002136</td>\n      <td>2016-12-13 05:19:00</td>\n      <td>20161213000009</td>\n      <td>2016-12-18 09:09:24</td>\n      <td>2.016122e+13</td>\n      <td>2016-12-23 16:47:09</td>\n      <td>2.016122e+13</td>\n      <td>2016-12-30 14:35:12</td>\n      <td>2.016123e+13</td>\n      <td>NaT</td>\n      <td>NaN</td>\n      <td>NaT</td>\n      <td>NaN</td>\n      <td>NaT</td>\n      <td>NaN</td>\n      <td>NaT</td>\n      <td>NaN</td>\n    </tr>\n    <tr>\n      <th>1</th>\n      <td>sub002</td>\n      <td>2016-04-06 21:21:03</td>\n      <td>20160406002131</td>\n      <td>2016-04-07 09:16:27</td>\n      <td>20160407000424</td>\n      <td>2016-04-09 15:34:22</td>\n      <td>2.016041e+13</td>\n      <td>2016-04-25 10:22:02</td>\n      <td>2.016043e+13</td>\n      <td>2016-05-23 09:32:34</td>\n      <td>2.016052e+13</td>\n      <td>NaT</td>\n      <td>NaN</td>\n      <td>NaT</td>\n      <td>NaN</td>\n      <td>NaT</td>\n      <td>NaN</td>\n      <td>NaT</td>\n      <td>NaN</td>\n    </tr>\n    <tr>\n      <th>2</th>\n      <td>sub003</td>\n      <td>2016-04-13 01:18:17</td>\n      <td>20160413000006</td>\n      <td>2016-04-13 08:49:38</td>\n      <td>20160413000428</td>\n      <td>2016-04-14 14:54:02</td>\n      <td>2.016041e+13</td>\n      <td>NaT</td>\n      <td>NaN</td>\n      <td>NaT</td>\n      <td>NaN</td>\n      <td>NaT</td>\n      <td>NaN</td>\n      <td>NaT</td>\n      <td>NaN</td>\n      <td>NaT</td>\n      <td>NaN</td>\n      <td>NaT</td>\n      <td>NaN</td>\n    </tr>\n    <tr>\n      <th>3</th>\n      <td>sub004</td>\n      <td>2016-12-15 22:53:41</td>\n      <td>20161215001667</td>\n      <td>2016-12-16 14:52:08</td>\n      <td>20161216001119</td>\n      <td>2016-12-19 09:44:24</td>\n      <td>2.016122e+13</td>\n      <td>2016-12-25 09:23:45</td>\n      <td>2.016123e+13</td>\n      <td>NaT</td>\n      <td>NaN</td>\n      <td>NaT</td>\n      <td>NaN</td>\n      <td>NaT</td>\n      <td>NaN</td>\n      <td>NaT</td>\n      <td>NaN</td>\n      <td>NaT</td>\n      <td>NaN</td>\n    </tr>\n    <tr>\n      <th>4</th>\n      <td>sub005</td>\n      <td>2016-12-22 13:18:48</td>\n      <td>20161222000978</td>\n      <td>2016-12-23 10:46:51</td>\n      <td>20161223000561</td>\n      <td>2016-12-26 10:15:23</td>\n      <td>2.016123e+13</td>\n      <td>NaT</td>\n      <td>NaN</td>\n      <td>NaT</td>\n      <td>NaN</td>\n      <td>NaT</td>\n      <td>NaN</td>\n      <td>NaT</td>\n      <td>NaN</td>\n      <td>NaT</td>\n      <td>NaN</td>\n      <td>NaT</td>\n      <td>NaN</td>\n    </tr>\n    <tr>\n      <th>...</th>\n      <td>...</td>\n      <td>...</td>\n      <td>...</td>\n      <td>...</td>\n      <td>...</td>\n      <td>...</td>\n      <td>...</td>\n      <td>...</td>\n      <td>...</td>\n      <td>...</td>\n      <td>...</td>\n      <td>...</td>\n      <td>...</td>\n      <td>...</td>\n      <td>...</td>\n      <td>...</td>\n      <td>...</td>\n      <td>...</td>\n      <td>...</td>\n    </tr>\n    <tr>\n      <th>95</th>\n      <td>sub096</td>\n      <td>2018-08-02 19:28:50</td>\n      <td>20180802001789</td>\n      <td>2018-08-03 08:14:31</td>\n      <td>20180803000170</td>\n      <td>2018-08-06 10:27:39</td>\n      <td>2.018081e+13</td>\n      <td>2018-08-13 09:35:59</td>\n      <td>2.018081e+13</td>\n      <td>2018-08-20 09:58:54</td>\n      <td>2.018082e+13</td>\n      <td>2018-08-27 14:07:24</td>\n      <td>2.018083e+13</td>\n      <td>NaT</td>\n      <td>NaN</td>\n      <td>NaT</td>\n      <td>NaN</td>\n      <td>NaT</td>\n      <td>NaN</td>\n    </tr>\n    <tr>\n      <th>96</th>\n      <td>sub097</td>\n      <td>2018-10-10 09:21:10</td>\n      <td>20181010000767</td>\n      <td>2018-10-11 14:16:42</td>\n      <td>20181011001620</td>\n      <td>2018-10-17 09:45:11</td>\n      <td>2.018102e+13</td>\n      <td>NaT</td>\n      <td>NaN</td>\n      <td>NaT</td>\n      <td>NaN</td>\n      <td>NaT</td>\n      <td>NaN</td>\n      <td>NaT</td>\n      <td>NaN</td>\n      <td>NaT</td>\n      <td>NaN</td>\n      <td>NaT</td>\n      <td>NaN</td>\n    </tr>\n    <tr>\n      <th>97</th>\n      <td>sub098</td>\n      <td>2018-06-12 22:32:20</td>\n      <td>20180612002507</td>\n      <td>2018-06-14 14:47:44</td>\n      <td>20180614001471</td>\n      <td>2018-06-20 15:41:45</td>\n      <td>2.018062e+13</td>\n      <td>2018-07-06 14:32:09</td>\n      <td>2.018071e+13</td>\n      <td>2018-07-20 11:24:26</td>\n      <td>2.018072e+13</td>\n      <td>NaT</td>\n      <td>NaN</td>\n      <td>NaT</td>\n      <td>NaN</td>\n      <td>NaT</td>\n      <td>NaN</td>\n      <td>NaT</td>\n      <td>NaN</td>\n    </tr>\n    <tr>\n      <th>98</th>\n      <td>sub099</td>\n      <td>2018-06-20 19:03:09</td>\n      <td>20180620002296</td>\n      <td>2018-06-21 09:43:31</td>\n      <td>20180621000781</td>\n      <td>2018-06-22 10:34:55</td>\n      <td>2.018062e+13</td>\n      <td>NaT</td>\n      <td>NaN</td>\n      <td>NaT</td>\n      <td>NaN</td>\n      <td>NaT</td>\n      <td>NaN</td>\n      <td>NaT</td>\n      <td>NaN</td>\n      <td>NaT</td>\n      <td>NaN</td>\n      <td>NaT</td>\n      <td>NaN</td>\n    </tr>\n    <tr>\n      <th>99</th>\n      <td>sub100</td>\n      <td>2018-03-14 04:46:39</td>\n      <td>20180314000010</td>\n      <td>2018-03-15 15:00:31</td>\n      <td>20180315001448</td>\n      <td>2018-03-22 09:30:51</td>\n      <td>2.018032e+13</td>\n      <td>NaT</td>\n      <td>NaN</td>\n      <td>NaT</td>\n      <td>NaN</td>\n      <td>NaT</td>\n      <td>NaN</td>\n      <td>NaT</td>\n      <td>NaN</td>\n      <td>NaT</td>\n      <td>NaN</td>\n      <td>NaT</td>\n      <td>NaN</td>\n    </tr>\n  </tbody>\n</table>\n<p>100 rows × 19 columns</p>\n</div>"
     },
     "execution_count": 323,
     "metadata": {},
     "output_type": "execute_result"
    }
   ],
   "source": [
    "attach1_a_1"
   ],
   "metadata": {
    "collapsed": false,
    "pycharm": {
     "name": "#%%\n"
    }
   }
  },
  {
   "cell_type": "code",
   "execution_count": 324,
   "outputs": [
    {
     "name": "stdout",
     "output_type": "stream",
     "text": [
      "ID              object\n",
      "首次检查流水号          int64\n",
      "ED_volume        int64\n",
      "随访1流水号         float64\n",
      "ED_volume.1    float64\n",
      "随访2流水号         float64\n",
      "ED_volume.2    float64\n",
      "随访3流水号         float64\n",
      "ED_volume.3    float64\n",
      "随访4流水号         float64\n",
      "ED_volume.4    float64\n",
      "随访5流水号         float64\n",
      "ED_volume.5    float64\n",
      "随访6流水号         float64\n",
      "ED_volume.6    float64\n",
      "随访7流水号         float64\n",
      "ED_volume.7    float64\n",
      "随访8流水号         float64\n",
      "ED_volume.8    float64\n",
      "dtype: object\n",
      "--------------------------------------------------\n",
      "Unnamed: 0            object\n",
      "入院首次检查时间点     datetime64[ns]\n",
      "入院首次检查流水号              int64\n",
      "随访1时间点        datetime64[ns]\n",
      "随访1流水号                 int64\n",
      "随访2时间点        datetime64[ns]\n",
      "随访2流水号               float64\n",
      "随访3时间点        datetime64[ns]\n",
      "随访3流水号               float64\n",
      "随访4时间点        datetime64[ns]\n",
      "随访4流水号               float64\n",
      "随访5时间点        datetime64[ns]\n",
      "随访5流水号               float64\n",
      "随访6时间点        datetime64[ns]\n",
      "随访6流水号               float64\n",
      "随访7时间点        datetime64[ns]\n",
      "随访7流水号               float64\n",
      "随访8时间点        datetime64[ns]\n",
      "随访8流水号               float64\n",
      "dtype: object\n"
     ]
    }
   ],
   "source": [
    "print(table2_a_1.dtypes)\n",
    "print('-'*50)\n",
    "print(attach1_a_1.dtypes)"
   ],
   "metadata": {
    "collapsed": false,
    "pycharm": {
     "name": "#%%\n"
    }
   }
  },
  {
   "cell_type": "code",
   "execution_count": 325,
   "outputs": [
    {
     "data": {
      "text/plain": "        ID         首次检查流水号  ED_volume        随访1流水号  ED_volume.1  \\\n0   sub001  20161212002136          0  2.016121e+13       8979.0   \n1   sub002  20160406002131          0  2.016041e+13       -136.0   \n2   sub003  20160413000006          0  2.016041e+13       8671.0   \n3   sub004  20161215001667          0  2.016122e+13      -3235.0   \n4   sub005  20161222000978          0  2.016122e+13     -24210.0   \n..     ...             ...        ...           ...          ...   \n95  sub096  20180802001789          0  2.018080e+13        143.0   \n96  sub097  20181010000767          0  2.018101e+13      -1592.0   \n97  sub098  20180612002507          0  2.018061e+13     -10861.0   \n98  sub099  20180620002296          0  2.018062e+13       9864.0   \n99  sub100  20180314000010          0  2.018032e+13      -1334.0   \n\n          随访2流水号  ED_volume.2        随访3流水号  ED_volume.3        随访4流水号  \\\n0   2.016122e+13      32828.0  2.016122e+13      58874.0  2.016123e+13   \n1   2.016041e+13       4889.0  2.016043e+13      11342.0  2.016052e+13   \n2   2.016041e+13      17146.0           NaN          NaN           NaN   \n3   2.016122e+13     -12651.0  2.016123e+13     -16987.0           NaN   \n4   2.016123e+13     -34494.0           NaN          NaN           NaN   \n..           ...          ...           ...          ...           ...   \n95  2.018081e+13       3960.0  2.018081e+13       5736.0  2.018082e+13   \n96  2.018102e+13      -8911.0           NaN          NaN           NaN   \n97  2.018062e+13     -13442.0  2.018071e+13        798.0  2.018072e+13   \n98  2.018062e+13      21280.0           NaN          NaN           NaN   \n99  2.018032e+13      -4176.0           NaN          NaN           NaN   \n\n    ED_volume.4        随访5流水号  ED_volume.5  随访6流水号  ED_volume.6  随访7流水号  \\\n0       77639.0           NaN          NaN     NaN          NaN     NaN   \n1      -23526.0           NaN          NaN     NaN          NaN     NaN   \n2           NaN           NaN          NaN     NaN          NaN     NaN   \n3           NaN           NaN          NaN     NaN          NaN     NaN   \n4           NaN           NaN          NaN     NaN          NaN     NaN   \n..          ...           ...          ...     ...          ...     ...   \n95      -5720.0  2.018083e+13      -5951.0     NaN          NaN     NaN   \n96          NaN           NaN          NaN     NaN          NaN     NaN   \n97     -22580.0           NaN          NaN     NaN          NaN     NaN   \n98          NaN           NaN          NaN     NaN          NaN     NaN   \n99          NaN           NaN          NaN     NaN          NaN     NaN   \n\n    ED_volume.7  随访8流水号  ED_volume.8  \n0           NaN     NaN          NaN  \n1           NaN     NaN          NaN  \n2           NaN     NaN          NaN  \n3           NaN     NaN          NaN  \n4           NaN     NaN          NaN  \n..          ...     ...          ...  \n95          NaN     NaN          NaN  \n96          NaN     NaN          NaN  \n97          NaN     NaN          NaN  \n98          NaN     NaN          NaN  \n99          NaN     NaN          NaN  \n\n[100 rows x 19 columns]",
      "text/html": "<div>\n<style scoped>\n    .dataframe tbody tr th:only-of-type {\n        vertical-align: middle;\n    }\n\n    .dataframe tbody tr th {\n        vertical-align: top;\n    }\n\n    .dataframe thead th {\n        text-align: right;\n    }\n</style>\n<table border=\"1\" class=\"dataframe\">\n  <thead>\n    <tr style=\"text-align: right;\">\n      <th></th>\n      <th>ID</th>\n      <th>首次检查流水号</th>\n      <th>ED_volume</th>\n      <th>随访1流水号</th>\n      <th>ED_volume.1</th>\n      <th>随访2流水号</th>\n      <th>ED_volume.2</th>\n      <th>随访3流水号</th>\n      <th>ED_volume.3</th>\n      <th>随访4流水号</th>\n      <th>ED_volume.4</th>\n      <th>随访5流水号</th>\n      <th>ED_volume.5</th>\n      <th>随访6流水号</th>\n      <th>ED_volume.6</th>\n      <th>随访7流水号</th>\n      <th>ED_volume.7</th>\n      <th>随访8流水号</th>\n      <th>ED_volume.8</th>\n    </tr>\n  </thead>\n  <tbody>\n    <tr>\n      <th>0</th>\n      <td>sub001</td>\n      <td>20161212002136</td>\n      <td>0</td>\n      <td>2.016121e+13</td>\n      <td>8979.0</td>\n      <td>2.016122e+13</td>\n      <td>32828.0</td>\n      <td>2.016122e+13</td>\n      <td>58874.0</td>\n      <td>2.016123e+13</td>\n      <td>77639.0</td>\n      <td>NaN</td>\n      <td>NaN</td>\n      <td>NaN</td>\n      <td>NaN</td>\n      <td>NaN</td>\n      <td>NaN</td>\n      <td>NaN</td>\n      <td>NaN</td>\n    </tr>\n    <tr>\n      <th>1</th>\n      <td>sub002</td>\n      <td>20160406002131</td>\n      <td>0</td>\n      <td>2.016041e+13</td>\n      <td>-136.0</td>\n      <td>2.016041e+13</td>\n      <td>4889.0</td>\n      <td>2.016043e+13</td>\n      <td>11342.0</td>\n      <td>2.016052e+13</td>\n      <td>-23526.0</td>\n      <td>NaN</td>\n      <td>NaN</td>\n      <td>NaN</td>\n      <td>NaN</td>\n      <td>NaN</td>\n      <td>NaN</td>\n      <td>NaN</td>\n      <td>NaN</td>\n    </tr>\n    <tr>\n      <th>2</th>\n      <td>sub003</td>\n      <td>20160413000006</td>\n      <td>0</td>\n      <td>2.016041e+13</td>\n      <td>8671.0</td>\n      <td>2.016041e+13</td>\n      <td>17146.0</td>\n      <td>NaN</td>\n      <td>NaN</td>\n      <td>NaN</td>\n      <td>NaN</td>\n      <td>NaN</td>\n      <td>NaN</td>\n      <td>NaN</td>\n      <td>NaN</td>\n      <td>NaN</td>\n      <td>NaN</td>\n      <td>NaN</td>\n      <td>NaN</td>\n    </tr>\n    <tr>\n      <th>3</th>\n      <td>sub004</td>\n      <td>20161215001667</td>\n      <td>0</td>\n      <td>2.016122e+13</td>\n      <td>-3235.0</td>\n      <td>2.016122e+13</td>\n      <td>-12651.0</td>\n      <td>2.016123e+13</td>\n      <td>-16987.0</td>\n      <td>NaN</td>\n      <td>NaN</td>\n      <td>NaN</td>\n      <td>NaN</td>\n      <td>NaN</td>\n      <td>NaN</td>\n      <td>NaN</td>\n      <td>NaN</td>\n      <td>NaN</td>\n      <td>NaN</td>\n    </tr>\n    <tr>\n      <th>4</th>\n      <td>sub005</td>\n      <td>20161222000978</td>\n      <td>0</td>\n      <td>2.016122e+13</td>\n      <td>-24210.0</td>\n      <td>2.016123e+13</td>\n      <td>-34494.0</td>\n      <td>NaN</td>\n      <td>NaN</td>\n      <td>NaN</td>\n      <td>NaN</td>\n      <td>NaN</td>\n      <td>NaN</td>\n      <td>NaN</td>\n      <td>NaN</td>\n      <td>NaN</td>\n      <td>NaN</td>\n      <td>NaN</td>\n      <td>NaN</td>\n    </tr>\n    <tr>\n      <th>...</th>\n      <td>...</td>\n      <td>...</td>\n      <td>...</td>\n      <td>...</td>\n      <td>...</td>\n      <td>...</td>\n      <td>...</td>\n      <td>...</td>\n      <td>...</td>\n      <td>...</td>\n      <td>...</td>\n      <td>...</td>\n      <td>...</td>\n      <td>...</td>\n      <td>...</td>\n      <td>...</td>\n      <td>...</td>\n      <td>...</td>\n      <td>...</td>\n    </tr>\n    <tr>\n      <th>95</th>\n      <td>sub096</td>\n      <td>20180802001789</td>\n      <td>0</td>\n      <td>2.018080e+13</td>\n      <td>143.0</td>\n      <td>2.018081e+13</td>\n      <td>3960.0</td>\n      <td>2.018081e+13</td>\n      <td>5736.0</td>\n      <td>2.018082e+13</td>\n      <td>-5720.0</td>\n      <td>2.018083e+13</td>\n      <td>-5951.0</td>\n      <td>NaN</td>\n      <td>NaN</td>\n      <td>NaN</td>\n      <td>NaN</td>\n      <td>NaN</td>\n      <td>NaN</td>\n    </tr>\n    <tr>\n      <th>96</th>\n      <td>sub097</td>\n      <td>20181010000767</td>\n      <td>0</td>\n      <td>2.018101e+13</td>\n      <td>-1592.0</td>\n      <td>2.018102e+13</td>\n      <td>-8911.0</td>\n      <td>NaN</td>\n      <td>NaN</td>\n      <td>NaN</td>\n      <td>NaN</td>\n      <td>NaN</td>\n      <td>NaN</td>\n      <td>NaN</td>\n      <td>NaN</td>\n      <td>NaN</td>\n      <td>NaN</td>\n      <td>NaN</td>\n      <td>NaN</td>\n    </tr>\n    <tr>\n      <th>97</th>\n      <td>sub098</td>\n      <td>20180612002507</td>\n      <td>0</td>\n      <td>2.018061e+13</td>\n      <td>-10861.0</td>\n      <td>2.018062e+13</td>\n      <td>-13442.0</td>\n      <td>2.018071e+13</td>\n      <td>798.0</td>\n      <td>2.018072e+13</td>\n      <td>-22580.0</td>\n      <td>NaN</td>\n      <td>NaN</td>\n      <td>NaN</td>\n      <td>NaN</td>\n      <td>NaN</td>\n      <td>NaN</td>\n      <td>NaN</td>\n      <td>NaN</td>\n    </tr>\n    <tr>\n      <th>98</th>\n      <td>sub099</td>\n      <td>20180620002296</td>\n      <td>0</td>\n      <td>2.018062e+13</td>\n      <td>9864.0</td>\n      <td>2.018062e+13</td>\n      <td>21280.0</td>\n      <td>NaN</td>\n      <td>NaN</td>\n      <td>NaN</td>\n      <td>NaN</td>\n      <td>NaN</td>\n      <td>NaN</td>\n      <td>NaN</td>\n      <td>NaN</td>\n      <td>NaN</td>\n      <td>NaN</td>\n      <td>NaN</td>\n      <td>NaN</td>\n    </tr>\n    <tr>\n      <th>99</th>\n      <td>sub100</td>\n      <td>20180314000010</td>\n      <td>0</td>\n      <td>2.018032e+13</td>\n      <td>-1334.0</td>\n      <td>2.018032e+13</td>\n      <td>-4176.0</td>\n      <td>NaN</td>\n      <td>NaN</td>\n      <td>NaN</td>\n      <td>NaN</td>\n      <td>NaN</td>\n      <td>NaN</td>\n      <td>NaN</td>\n      <td>NaN</td>\n      <td>NaN</td>\n      <td>NaN</td>\n      <td>NaN</td>\n      <td>NaN</td>\n    </tr>\n  </tbody>\n</table>\n<p>100 rows × 19 columns</p>\n</div>"
     },
     "execution_count": 325,
     "metadata": {},
     "output_type": "execute_result"
    }
   ],
   "source": [
    "#table2_a_1处理ED_volume数据\n",
    "i=4\n",
    "while i<=18:\n",
    "    table2_a_1.iloc[:,i]=(table2_a_1.iloc[:,i]-table2_a_1.iloc[:,2])\n",
    "    i+=2\n",
    "table2_a_1.iloc[:,2]=(table2_a_1.iloc[:,2]-table2_a_1.iloc[:,2])\n",
    "table2_a_1"
   ],
   "metadata": {
    "collapsed": false,
    "pycharm": {
     "name": "#%%\n"
    }
   }
  },
  {
   "cell_type": "code",
   "execution_count": 326,
   "outputs": [
    {
     "data": {
      "text/plain": "        ID             首次检查流水号  ED_volume              随访1流水号  ED_volume.1  \\\n0   sub001 2016-12-12 23:32:54          0 2016-12-13 05:19:00       8979.0   \n1   sub002 2016-04-06 21:21:03          0 2016-04-07 09:16:27       -136.0   \n2   sub003 2016-04-13 01:18:17          0 2016-04-13 08:49:38       8671.0   \n3   sub004 2016-12-15 22:53:41          0 2016-12-16 14:52:08      -3235.0   \n4   sub005 2016-12-22 13:18:48          0 2016-12-23 10:46:51     -24210.0   \n..     ...                 ...        ...                 ...          ...   \n95  sub096 2018-08-02 19:28:50          0 2018-08-03 08:14:31        143.0   \n96  sub097 2018-10-10 09:21:10          0 2018-10-11 14:16:42      -1592.0   \n97  sub098 2018-06-12 22:32:20          0 2018-06-14 14:47:44     -10861.0   \n98  sub099 2018-06-20 19:03:09          0 2018-06-21 09:43:31       9864.0   \n99  sub100 2018-03-14 04:46:39          0 2018-03-15 15:00:31      -1334.0   \n\n                随访2流水号  ED_volume.2              随访3流水号  ED_volume.3  \\\n0  2016-12-18 09:09:24      32828.0 2016-12-23 16:47:09      58874.0   \n1  2016-04-09 15:34:22       4889.0 2016-04-25 10:22:02      11342.0   \n2  2016-04-14 14:54:02      17146.0                 NaT          NaN   \n3  2016-12-19 09:44:24     -12651.0 2016-12-25 09:23:45     -16987.0   \n4  2016-12-26 10:15:23     -34494.0                 NaT          NaN   \n..                 ...          ...                 ...          ...   \n95 2018-08-06 10:27:39       3960.0 2018-08-13 09:35:59       5736.0   \n96 2018-10-17 09:45:11      -8911.0                 NaT          NaN   \n97 2018-06-20 15:41:45     -13442.0 2018-07-06 14:32:09        798.0   \n98 2018-06-22 10:34:55      21280.0                 NaT          NaN   \n99 2018-03-22 09:30:51      -4176.0                 NaT          NaN   \n\n                随访4流水号  ED_volume.4              随访5流水号  ED_volume.5 随访6流水号  \\\n0  2016-12-30 14:35:12      77639.0                 NaT          NaN    NaT   \n1  2016-05-23 09:32:34     -23526.0                 NaT          NaN    NaT   \n2                  NaT          NaN                 NaT          NaN    NaT   \n3                  NaT          NaN                 NaT          NaN    NaT   \n4                  NaT          NaN                 NaT          NaN    NaT   \n..                 ...          ...                 ...          ...    ...   \n95 2018-08-20 09:58:54      -5720.0 2018-08-27 14:07:24      -5951.0    NaT   \n96                 NaT          NaN                 NaT          NaN    NaT   \n97 2018-07-20 11:24:26     -22580.0                 NaT          NaN    NaT   \n98                 NaT          NaN                 NaT          NaN    NaT   \n99                 NaT          NaN                 NaT          NaN    NaT   \n\n    ED_volume.6 随访7流水号  ED_volume.7 随访8流水号  ED_volume.8  \n0           NaN    NaT          NaN    NaT          NaN  \n1           NaN    NaT          NaN    NaT          NaN  \n2           NaN    NaT          NaN    NaT          NaN  \n3           NaN    NaT          NaN    NaT          NaN  \n4           NaN    NaT          NaN    NaT          NaN  \n..          ...    ...          ...    ...          ...  \n95          NaN    NaT          NaN    NaT          NaN  \n96          NaN    NaT          NaN    NaT          NaN  \n97          NaN    NaT          NaN    NaT          NaN  \n98          NaN    NaT          NaN    NaT          NaN  \n99          NaN    NaT          NaN    NaT          NaN  \n\n[100 rows x 19 columns]",
      "text/html": "<div>\n<style scoped>\n    .dataframe tbody tr th:only-of-type {\n        vertical-align: middle;\n    }\n\n    .dataframe tbody tr th {\n        vertical-align: top;\n    }\n\n    .dataframe thead th {\n        text-align: right;\n    }\n</style>\n<table border=\"1\" class=\"dataframe\">\n  <thead>\n    <tr style=\"text-align: right;\">\n      <th></th>\n      <th>ID</th>\n      <th>首次检查流水号</th>\n      <th>ED_volume</th>\n      <th>随访1流水号</th>\n      <th>ED_volume.1</th>\n      <th>随访2流水号</th>\n      <th>ED_volume.2</th>\n      <th>随访3流水号</th>\n      <th>ED_volume.3</th>\n      <th>随访4流水号</th>\n      <th>ED_volume.4</th>\n      <th>随访5流水号</th>\n      <th>ED_volume.5</th>\n      <th>随访6流水号</th>\n      <th>ED_volume.6</th>\n      <th>随访7流水号</th>\n      <th>ED_volume.7</th>\n      <th>随访8流水号</th>\n      <th>ED_volume.8</th>\n    </tr>\n  </thead>\n  <tbody>\n    <tr>\n      <th>0</th>\n      <td>sub001</td>\n      <td>2016-12-12 23:32:54</td>\n      <td>0</td>\n      <td>2016-12-13 05:19:00</td>\n      <td>8979.0</td>\n      <td>2016-12-18 09:09:24</td>\n      <td>32828.0</td>\n      <td>2016-12-23 16:47:09</td>\n      <td>58874.0</td>\n      <td>2016-12-30 14:35:12</td>\n      <td>77639.0</td>\n      <td>NaT</td>\n      <td>NaN</td>\n      <td>NaT</td>\n      <td>NaN</td>\n      <td>NaT</td>\n      <td>NaN</td>\n      <td>NaT</td>\n      <td>NaN</td>\n    </tr>\n    <tr>\n      <th>1</th>\n      <td>sub002</td>\n      <td>2016-04-06 21:21:03</td>\n      <td>0</td>\n      <td>2016-04-07 09:16:27</td>\n      <td>-136.0</td>\n      <td>2016-04-09 15:34:22</td>\n      <td>4889.0</td>\n      <td>2016-04-25 10:22:02</td>\n      <td>11342.0</td>\n      <td>2016-05-23 09:32:34</td>\n      <td>-23526.0</td>\n      <td>NaT</td>\n      <td>NaN</td>\n      <td>NaT</td>\n      <td>NaN</td>\n      <td>NaT</td>\n      <td>NaN</td>\n      <td>NaT</td>\n      <td>NaN</td>\n    </tr>\n    <tr>\n      <th>2</th>\n      <td>sub003</td>\n      <td>2016-04-13 01:18:17</td>\n      <td>0</td>\n      <td>2016-04-13 08:49:38</td>\n      <td>8671.0</td>\n      <td>2016-04-14 14:54:02</td>\n      <td>17146.0</td>\n      <td>NaT</td>\n      <td>NaN</td>\n      <td>NaT</td>\n      <td>NaN</td>\n      <td>NaT</td>\n      <td>NaN</td>\n      <td>NaT</td>\n      <td>NaN</td>\n      <td>NaT</td>\n      <td>NaN</td>\n      <td>NaT</td>\n      <td>NaN</td>\n    </tr>\n    <tr>\n      <th>3</th>\n      <td>sub004</td>\n      <td>2016-12-15 22:53:41</td>\n      <td>0</td>\n      <td>2016-12-16 14:52:08</td>\n      <td>-3235.0</td>\n      <td>2016-12-19 09:44:24</td>\n      <td>-12651.0</td>\n      <td>2016-12-25 09:23:45</td>\n      <td>-16987.0</td>\n      <td>NaT</td>\n      <td>NaN</td>\n      <td>NaT</td>\n      <td>NaN</td>\n      <td>NaT</td>\n      <td>NaN</td>\n      <td>NaT</td>\n      <td>NaN</td>\n      <td>NaT</td>\n      <td>NaN</td>\n    </tr>\n    <tr>\n      <th>4</th>\n      <td>sub005</td>\n      <td>2016-12-22 13:18:48</td>\n      <td>0</td>\n      <td>2016-12-23 10:46:51</td>\n      <td>-24210.0</td>\n      <td>2016-12-26 10:15:23</td>\n      <td>-34494.0</td>\n      <td>NaT</td>\n      <td>NaN</td>\n      <td>NaT</td>\n      <td>NaN</td>\n      <td>NaT</td>\n      <td>NaN</td>\n      <td>NaT</td>\n      <td>NaN</td>\n      <td>NaT</td>\n      <td>NaN</td>\n      <td>NaT</td>\n      <td>NaN</td>\n    </tr>\n    <tr>\n      <th>...</th>\n      <td>...</td>\n      <td>...</td>\n      <td>...</td>\n      <td>...</td>\n      <td>...</td>\n      <td>...</td>\n      <td>...</td>\n      <td>...</td>\n      <td>...</td>\n      <td>...</td>\n      <td>...</td>\n      <td>...</td>\n      <td>...</td>\n      <td>...</td>\n      <td>...</td>\n      <td>...</td>\n      <td>...</td>\n      <td>...</td>\n      <td>...</td>\n    </tr>\n    <tr>\n      <th>95</th>\n      <td>sub096</td>\n      <td>2018-08-02 19:28:50</td>\n      <td>0</td>\n      <td>2018-08-03 08:14:31</td>\n      <td>143.0</td>\n      <td>2018-08-06 10:27:39</td>\n      <td>3960.0</td>\n      <td>2018-08-13 09:35:59</td>\n      <td>5736.0</td>\n      <td>2018-08-20 09:58:54</td>\n      <td>-5720.0</td>\n      <td>2018-08-27 14:07:24</td>\n      <td>-5951.0</td>\n      <td>NaT</td>\n      <td>NaN</td>\n      <td>NaT</td>\n      <td>NaN</td>\n      <td>NaT</td>\n      <td>NaN</td>\n    </tr>\n    <tr>\n      <th>96</th>\n      <td>sub097</td>\n      <td>2018-10-10 09:21:10</td>\n      <td>0</td>\n      <td>2018-10-11 14:16:42</td>\n      <td>-1592.0</td>\n      <td>2018-10-17 09:45:11</td>\n      <td>-8911.0</td>\n      <td>NaT</td>\n      <td>NaN</td>\n      <td>NaT</td>\n      <td>NaN</td>\n      <td>NaT</td>\n      <td>NaN</td>\n      <td>NaT</td>\n      <td>NaN</td>\n      <td>NaT</td>\n      <td>NaN</td>\n      <td>NaT</td>\n      <td>NaN</td>\n    </tr>\n    <tr>\n      <th>97</th>\n      <td>sub098</td>\n      <td>2018-06-12 22:32:20</td>\n      <td>0</td>\n      <td>2018-06-14 14:47:44</td>\n      <td>-10861.0</td>\n      <td>2018-06-20 15:41:45</td>\n      <td>-13442.0</td>\n      <td>2018-07-06 14:32:09</td>\n      <td>798.0</td>\n      <td>2018-07-20 11:24:26</td>\n      <td>-22580.0</td>\n      <td>NaT</td>\n      <td>NaN</td>\n      <td>NaT</td>\n      <td>NaN</td>\n      <td>NaT</td>\n      <td>NaN</td>\n      <td>NaT</td>\n      <td>NaN</td>\n    </tr>\n    <tr>\n      <th>98</th>\n      <td>sub099</td>\n      <td>2018-06-20 19:03:09</td>\n      <td>0</td>\n      <td>2018-06-21 09:43:31</td>\n      <td>9864.0</td>\n      <td>2018-06-22 10:34:55</td>\n      <td>21280.0</td>\n      <td>NaT</td>\n      <td>NaN</td>\n      <td>NaT</td>\n      <td>NaN</td>\n      <td>NaT</td>\n      <td>NaN</td>\n      <td>NaT</td>\n      <td>NaN</td>\n      <td>NaT</td>\n      <td>NaN</td>\n      <td>NaT</td>\n      <td>NaN</td>\n    </tr>\n    <tr>\n      <th>99</th>\n      <td>sub100</td>\n      <td>2018-03-14 04:46:39</td>\n      <td>0</td>\n      <td>2018-03-15 15:00:31</td>\n      <td>-1334.0</td>\n      <td>2018-03-22 09:30:51</td>\n      <td>-4176.0</td>\n      <td>NaT</td>\n      <td>NaN</td>\n      <td>NaT</td>\n      <td>NaN</td>\n      <td>NaT</td>\n      <td>NaN</td>\n      <td>NaT</td>\n      <td>NaN</td>\n      <td>NaT</td>\n      <td>NaN</td>\n      <td>NaT</td>\n      <td>NaN</td>\n    </tr>\n  </tbody>\n</table>\n<p>100 rows × 19 columns</p>\n</div>"
     },
     "execution_count": 326,
     "metadata": {},
     "output_type": "execute_result"
    }
   ],
   "source": [
    "#把attach1_a_1中的时间点替代table2_a_1的流水号\n",
    "i=1\n",
    "while i<=18:\n",
    "    table2_a_1.iloc[:,i]=attach1_a_1.iloc[:,i]\n",
    "    i+=2\n",
    "table2_a_1"
   ],
   "metadata": {
    "collapsed": false,
    "pycharm": {
     "name": "#%%\n"
    }
   }
  },
  {
   "cell_type": "code",
   "execution_count": 327,
   "outputs": [
    {
     "data": {
      "text/plain": "        ID           入院首次检查时间点  ED_volume              随访1时间点  ED_volume.1  \\\n0   sub001 2016-12-12 23:32:54          0 2016-12-13 05:19:00       8979.0   \n1   sub002 2016-04-06 21:21:03          0 2016-04-07 09:16:27       -136.0   \n2   sub003 2016-04-13 01:18:17          0 2016-04-13 08:49:38       8671.0   \n3   sub004 2016-12-15 22:53:41          0 2016-12-16 14:52:08      -3235.0   \n4   sub005 2016-12-22 13:18:48          0 2016-12-23 10:46:51     -24210.0   \n..     ...                 ...        ...                 ...          ...   \n95  sub096 2018-08-02 19:28:50          0 2018-08-03 08:14:31        143.0   \n96  sub097 2018-10-10 09:21:10          0 2018-10-11 14:16:42      -1592.0   \n97  sub098 2018-06-12 22:32:20          0 2018-06-14 14:47:44     -10861.0   \n98  sub099 2018-06-20 19:03:09          0 2018-06-21 09:43:31       9864.0   \n99  sub100 2018-03-14 04:46:39          0 2018-03-15 15:00:31      -1334.0   \n\n                随访2时间点  ED_volume.2              随访3时间点  ED_volume.3  \\\n0  2016-12-18 09:09:24      32828.0 2016-12-23 16:47:09      58874.0   \n1  2016-04-09 15:34:22       4889.0 2016-04-25 10:22:02      11342.0   \n2  2016-04-14 14:54:02      17146.0                 NaT          NaN   \n3  2016-12-19 09:44:24     -12651.0 2016-12-25 09:23:45     -16987.0   \n4  2016-12-26 10:15:23     -34494.0                 NaT          NaN   \n..                 ...          ...                 ...          ...   \n95 2018-08-06 10:27:39       3960.0 2018-08-13 09:35:59       5736.0   \n96 2018-10-17 09:45:11      -8911.0                 NaT          NaN   \n97 2018-06-20 15:41:45     -13442.0 2018-07-06 14:32:09        798.0   \n98 2018-06-22 10:34:55      21280.0                 NaT          NaN   \n99 2018-03-22 09:30:51      -4176.0                 NaT          NaN   \n\n                随访4时间点  ED_volume.4              随访5时间点  ED_volume.5 随访6时间点  \\\n0  2016-12-30 14:35:12      77639.0                 NaT          NaN    NaT   \n1  2016-05-23 09:32:34     -23526.0                 NaT          NaN    NaT   \n2                  NaT          NaN                 NaT          NaN    NaT   \n3                  NaT          NaN                 NaT          NaN    NaT   \n4                  NaT          NaN                 NaT          NaN    NaT   \n..                 ...          ...                 ...          ...    ...   \n95 2018-08-20 09:58:54      -5720.0 2018-08-27 14:07:24      -5951.0    NaT   \n96                 NaT          NaN                 NaT          NaN    NaT   \n97 2018-07-20 11:24:26     -22580.0                 NaT          NaN    NaT   \n98                 NaT          NaN                 NaT          NaN    NaT   \n99                 NaT          NaN                 NaT          NaN    NaT   \n\n    ED_volume.6 随访7时间点  ED_volume.7 随访8时间点  ED_volume.8  \n0           NaN    NaT          NaN    NaT          NaN  \n1           NaN    NaT          NaN    NaT          NaN  \n2           NaN    NaT          NaN    NaT          NaN  \n3           NaN    NaT          NaN    NaT          NaN  \n4           NaN    NaT          NaN    NaT          NaN  \n..          ...    ...          ...    ...          ...  \n95          NaN    NaT          NaN    NaT          NaN  \n96          NaN    NaT          NaN    NaT          NaN  \n97          NaN    NaT          NaN    NaT          NaN  \n98          NaN    NaT          NaN    NaT          NaN  \n99          NaN    NaT          NaN    NaT          NaN  \n\n[100 rows x 19 columns]",
      "text/html": "<div>\n<style scoped>\n    .dataframe tbody tr th:only-of-type {\n        vertical-align: middle;\n    }\n\n    .dataframe tbody tr th {\n        vertical-align: top;\n    }\n\n    .dataframe thead th {\n        text-align: right;\n    }\n</style>\n<table border=\"1\" class=\"dataframe\">\n  <thead>\n    <tr style=\"text-align: right;\">\n      <th></th>\n      <th>ID</th>\n      <th>入院首次检查时间点</th>\n      <th>ED_volume</th>\n      <th>随访1时间点</th>\n      <th>ED_volume.1</th>\n      <th>随访2时间点</th>\n      <th>ED_volume.2</th>\n      <th>随访3时间点</th>\n      <th>ED_volume.3</th>\n      <th>随访4时间点</th>\n      <th>ED_volume.4</th>\n      <th>随访5时间点</th>\n      <th>ED_volume.5</th>\n      <th>随访6时间点</th>\n      <th>ED_volume.6</th>\n      <th>随访7时间点</th>\n      <th>ED_volume.7</th>\n      <th>随访8时间点</th>\n      <th>ED_volume.8</th>\n    </tr>\n  </thead>\n  <tbody>\n    <tr>\n      <th>0</th>\n      <td>sub001</td>\n      <td>2016-12-12 23:32:54</td>\n      <td>0</td>\n      <td>2016-12-13 05:19:00</td>\n      <td>8979.0</td>\n      <td>2016-12-18 09:09:24</td>\n      <td>32828.0</td>\n      <td>2016-12-23 16:47:09</td>\n      <td>58874.0</td>\n      <td>2016-12-30 14:35:12</td>\n      <td>77639.0</td>\n      <td>NaT</td>\n      <td>NaN</td>\n      <td>NaT</td>\n      <td>NaN</td>\n      <td>NaT</td>\n      <td>NaN</td>\n      <td>NaT</td>\n      <td>NaN</td>\n    </tr>\n    <tr>\n      <th>1</th>\n      <td>sub002</td>\n      <td>2016-04-06 21:21:03</td>\n      <td>0</td>\n      <td>2016-04-07 09:16:27</td>\n      <td>-136.0</td>\n      <td>2016-04-09 15:34:22</td>\n      <td>4889.0</td>\n      <td>2016-04-25 10:22:02</td>\n      <td>11342.0</td>\n      <td>2016-05-23 09:32:34</td>\n      <td>-23526.0</td>\n      <td>NaT</td>\n      <td>NaN</td>\n      <td>NaT</td>\n      <td>NaN</td>\n      <td>NaT</td>\n      <td>NaN</td>\n      <td>NaT</td>\n      <td>NaN</td>\n    </tr>\n    <tr>\n      <th>2</th>\n      <td>sub003</td>\n      <td>2016-04-13 01:18:17</td>\n      <td>0</td>\n      <td>2016-04-13 08:49:38</td>\n      <td>8671.0</td>\n      <td>2016-04-14 14:54:02</td>\n      <td>17146.0</td>\n      <td>NaT</td>\n      <td>NaN</td>\n      <td>NaT</td>\n      <td>NaN</td>\n      <td>NaT</td>\n      <td>NaN</td>\n      <td>NaT</td>\n      <td>NaN</td>\n      <td>NaT</td>\n      <td>NaN</td>\n      <td>NaT</td>\n      <td>NaN</td>\n    </tr>\n    <tr>\n      <th>3</th>\n      <td>sub004</td>\n      <td>2016-12-15 22:53:41</td>\n      <td>0</td>\n      <td>2016-12-16 14:52:08</td>\n      <td>-3235.0</td>\n      <td>2016-12-19 09:44:24</td>\n      <td>-12651.0</td>\n      <td>2016-12-25 09:23:45</td>\n      <td>-16987.0</td>\n      <td>NaT</td>\n      <td>NaN</td>\n      <td>NaT</td>\n      <td>NaN</td>\n      <td>NaT</td>\n      <td>NaN</td>\n      <td>NaT</td>\n      <td>NaN</td>\n      <td>NaT</td>\n      <td>NaN</td>\n    </tr>\n    <tr>\n      <th>4</th>\n      <td>sub005</td>\n      <td>2016-12-22 13:18:48</td>\n      <td>0</td>\n      <td>2016-12-23 10:46:51</td>\n      <td>-24210.0</td>\n      <td>2016-12-26 10:15:23</td>\n      <td>-34494.0</td>\n      <td>NaT</td>\n      <td>NaN</td>\n      <td>NaT</td>\n      <td>NaN</td>\n      <td>NaT</td>\n      <td>NaN</td>\n      <td>NaT</td>\n      <td>NaN</td>\n      <td>NaT</td>\n      <td>NaN</td>\n      <td>NaT</td>\n      <td>NaN</td>\n    </tr>\n    <tr>\n      <th>...</th>\n      <td>...</td>\n      <td>...</td>\n      <td>...</td>\n      <td>...</td>\n      <td>...</td>\n      <td>...</td>\n      <td>...</td>\n      <td>...</td>\n      <td>...</td>\n      <td>...</td>\n      <td>...</td>\n      <td>...</td>\n      <td>...</td>\n      <td>...</td>\n      <td>...</td>\n      <td>...</td>\n      <td>...</td>\n      <td>...</td>\n      <td>...</td>\n    </tr>\n    <tr>\n      <th>95</th>\n      <td>sub096</td>\n      <td>2018-08-02 19:28:50</td>\n      <td>0</td>\n      <td>2018-08-03 08:14:31</td>\n      <td>143.0</td>\n      <td>2018-08-06 10:27:39</td>\n      <td>3960.0</td>\n      <td>2018-08-13 09:35:59</td>\n      <td>5736.0</td>\n      <td>2018-08-20 09:58:54</td>\n      <td>-5720.0</td>\n      <td>2018-08-27 14:07:24</td>\n      <td>-5951.0</td>\n      <td>NaT</td>\n      <td>NaN</td>\n      <td>NaT</td>\n      <td>NaN</td>\n      <td>NaT</td>\n      <td>NaN</td>\n    </tr>\n    <tr>\n      <th>96</th>\n      <td>sub097</td>\n      <td>2018-10-10 09:21:10</td>\n      <td>0</td>\n      <td>2018-10-11 14:16:42</td>\n      <td>-1592.0</td>\n      <td>2018-10-17 09:45:11</td>\n      <td>-8911.0</td>\n      <td>NaT</td>\n      <td>NaN</td>\n      <td>NaT</td>\n      <td>NaN</td>\n      <td>NaT</td>\n      <td>NaN</td>\n      <td>NaT</td>\n      <td>NaN</td>\n      <td>NaT</td>\n      <td>NaN</td>\n      <td>NaT</td>\n      <td>NaN</td>\n    </tr>\n    <tr>\n      <th>97</th>\n      <td>sub098</td>\n      <td>2018-06-12 22:32:20</td>\n      <td>0</td>\n      <td>2018-06-14 14:47:44</td>\n      <td>-10861.0</td>\n      <td>2018-06-20 15:41:45</td>\n      <td>-13442.0</td>\n      <td>2018-07-06 14:32:09</td>\n      <td>798.0</td>\n      <td>2018-07-20 11:24:26</td>\n      <td>-22580.0</td>\n      <td>NaT</td>\n      <td>NaN</td>\n      <td>NaT</td>\n      <td>NaN</td>\n      <td>NaT</td>\n      <td>NaN</td>\n      <td>NaT</td>\n      <td>NaN</td>\n    </tr>\n    <tr>\n      <th>98</th>\n      <td>sub099</td>\n      <td>2018-06-20 19:03:09</td>\n      <td>0</td>\n      <td>2018-06-21 09:43:31</td>\n      <td>9864.0</td>\n      <td>2018-06-22 10:34:55</td>\n      <td>21280.0</td>\n      <td>NaT</td>\n      <td>NaN</td>\n      <td>NaT</td>\n      <td>NaN</td>\n      <td>NaT</td>\n      <td>NaN</td>\n      <td>NaT</td>\n      <td>NaN</td>\n      <td>NaT</td>\n      <td>NaN</td>\n      <td>NaT</td>\n      <td>NaN</td>\n    </tr>\n    <tr>\n      <th>99</th>\n      <td>sub100</td>\n      <td>2018-03-14 04:46:39</td>\n      <td>0</td>\n      <td>2018-03-15 15:00:31</td>\n      <td>-1334.0</td>\n      <td>2018-03-22 09:30:51</td>\n      <td>-4176.0</td>\n      <td>NaT</td>\n      <td>NaN</td>\n      <td>NaT</td>\n      <td>NaN</td>\n      <td>NaT</td>\n      <td>NaN</td>\n      <td>NaT</td>\n      <td>NaN</td>\n      <td>NaT</td>\n      <td>NaN</td>\n      <td>NaT</td>\n      <td>NaN</td>\n    </tr>\n  </tbody>\n</table>\n<p>100 rows × 19 columns</p>\n</div>"
     },
     "execution_count": 327,
     "metadata": {},
     "output_type": "execute_result"
    }
   ],
   "source": [
    "#把table2_a_1'流水号’的列名改为attach1_a_1‘时间点’的列名\n",
    "column_to_replace={}\n",
    "i=1\n",
    "while i<=18:\n",
    "    column_to_replace.update({table2_a_1.columns[i]:attach1_a_1.columns[i]})\n",
    "    i+=2\n",
    "table2_a_1=table2_a_1.rename(columns=column_to_replace)\n",
    "table2_a_1"
   ],
   "metadata": {
    "collapsed": false,
    "pycharm": {
     "name": "#%%\n"
    }
   }
  },
  {
   "cell_type": "code",
   "execution_count": 328,
   "outputs": [
    {
     "name": "stdout",
     "output_type": "stream",
     "text": [
      "ID                     object\n",
      "入院首次检查时间点      datetime64[ns]\n",
      "ED_volume               int64\n",
      "随访1时间点         datetime64[ns]\n",
      "ED_volume.1           float64\n",
      "随访2时间点         datetime64[ns]\n",
      "ED_volume.2           float64\n",
      "随访3时间点         datetime64[ns]\n",
      "ED_volume.3           float64\n",
      "随访4时间点         datetime64[ns]\n",
      "ED_volume.4           float64\n",
      "随访5时间点         datetime64[ns]\n",
      "ED_volume.5           float64\n",
      "随访6时间点         datetime64[ns]\n",
      "ED_volume.6           float64\n",
      "随访7时间点         datetime64[ns]\n",
      "ED_volume.7           float64\n",
      "随访8时间点         datetime64[ns]\n",
      "ED_volume.8           float64\n",
      "dtype: object\n"
     ]
    }
   ],
   "source": [
    "print(table2_a_1.dtypes)"
   ],
   "metadata": {
    "collapsed": false,
    "pycharm": {
     "name": "#%%\n"
    }
   }
  },
  {
   "cell_type": "code",
   "execution_count": 329,
   "outputs": [
    {
     "data": {
      "text/plain": "        ID  入院首次检查时间点  ED_volume  随访1时间点  ED_volume.1  随访2时间点  ED_volume.2  \\\n0   sub001          0          0       0       8979.0       5      32828.0   \n1   sub002          0          0       0       -136.0       2       4889.0   \n2   sub003          0          0       0       8671.0       1      17146.0   \n3   sub004          0          0       0      -3235.0       3     -12651.0   \n4   sub005          0          0       0     -24210.0       3     -34494.0   \n..     ...        ...        ...     ...          ...     ...          ...   \n95  sub096          0          0       0        143.0       3       3960.0   \n96  sub097          0          0       1      -1592.0       7      -8911.0   \n97  sub098          0          0       1     -10861.0       7     -13442.0   \n98  sub099          0          0       0       9864.0       1      21280.0   \n99  sub100          0          0       1      -1334.0       8      -4176.0   \n\n    随访3时间点  ED_volume.3  随访4时间点  ED_volume.4  随访5时间点  ED_volume.5  随访6时间点  \\\n0     10.0      58874.0    17.0      77639.0     NaN          NaN     NaN   \n1     18.0      11342.0    46.0     -23526.0     NaN          NaN     NaN   \n2      NaN          NaN     NaN          NaN     NaN          NaN     NaN   \n3      9.0     -16987.0     NaN          NaN     NaN          NaN     NaN   \n4      NaN          NaN     NaN          NaN     NaN          NaN     NaN   \n..     ...          ...     ...          ...     ...          ...     ...   \n95    10.0       5736.0    17.0      -5720.0    24.0      -5951.0     NaN   \n96     NaN          NaN     NaN          NaN     NaN          NaN     NaN   \n97    23.0        798.0    37.0     -22580.0     NaN          NaN     NaN   \n98     NaN          NaN     NaN          NaN     NaN          NaN     NaN   \n99     NaN          NaN     NaN          NaN     NaN          NaN     NaN   \n\n    ED_volume.6  随访7时间点  ED_volume.7  随访8时间点  ED_volume.8  \n0           NaN     NaN          NaN     NaN          NaN  \n1           NaN     NaN          NaN     NaN          NaN  \n2           NaN     NaN          NaN     NaN          NaN  \n3           NaN     NaN          NaN     NaN          NaN  \n4           NaN     NaN          NaN     NaN          NaN  \n..          ...     ...          ...     ...          ...  \n95          NaN     NaN          NaN     NaN          NaN  \n96          NaN     NaN          NaN     NaN          NaN  \n97          NaN     NaN          NaN     NaN          NaN  \n98          NaN     NaN          NaN     NaN          NaN  \n99          NaN     NaN          NaN     NaN          NaN  \n\n[100 rows x 19 columns]",
      "text/html": "<div>\n<style scoped>\n    .dataframe tbody tr th:only-of-type {\n        vertical-align: middle;\n    }\n\n    .dataframe tbody tr th {\n        vertical-align: top;\n    }\n\n    .dataframe thead th {\n        text-align: right;\n    }\n</style>\n<table border=\"1\" class=\"dataframe\">\n  <thead>\n    <tr style=\"text-align: right;\">\n      <th></th>\n      <th>ID</th>\n      <th>入院首次检查时间点</th>\n      <th>ED_volume</th>\n      <th>随访1时间点</th>\n      <th>ED_volume.1</th>\n      <th>随访2时间点</th>\n      <th>ED_volume.2</th>\n      <th>随访3时间点</th>\n      <th>ED_volume.3</th>\n      <th>随访4时间点</th>\n      <th>ED_volume.4</th>\n      <th>随访5时间点</th>\n      <th>ED_volume.5</th>\n      <th>随访6时间点</th>\n      <th>ED_volume.6</th>\n      <th>随访7时间点</th>\n      <th>ED_volume.7</th>\n      <th>随访8时间点</th>\n      <th>ED_volume.8</th>\n    </tr>\n  </thead>\n  <tbody>\n    <tr>\n      <th>0</th>\n      <td>sub001</td>\n      <td>0</td>\n      <td>0</td>\n      <td>0</td>\n      <td>8979.0</td>\n      <td>5</td>\n      <td>32828.0</td>\n      <td>10.0</td>\n      <td>58874.0</td>\n      <td>17.0</td>\n      <td>77639.0</td>\n      <td>NaN</td>\n      <td>NaN</td>\n      <td>NaN</td>\n      <td>NaN</td>\n      <td>NaN</td>\n      <td>NaN</td>\n      <td>NaN</td>\n      <td>NaN</td>\n    </tr>\n    <tr>\n      <th>1</th>\n      <td>sub002</td>\n      <td>0</td>\n      <td>0</td>\n      <td>0</td>\n      <td>-136.0</td>\n      <td>2</td>\n      <td>4889.0</td>\n      <td>18.0</td>\n      <td>11342.0</td>\n      <td>46.0</td>\n      <td>-23526.0</td>\n      <td>NaN</td>\n      <td>NaN</td>\n      <td>NaN</td>\n      <td>NaN</td>\n      <td>NaN</td>\n      <td>NaN</td>\n      <td>NaN</td>\n      <td>NaN</td>\n    </tr>\n    <tr>\n      <th>2</th>\n      <td>sub003</td>\n      <td>0</td>\n      <td>0</td>\n      <td>0</td>\n      <td>8671.0</td>\n      <td>1</td>\n      <td>17146.0</td>\n      <td>NaN</td>\n      <td>NaN</td>\n      <td>NaN</td>\n      <td>NaN</td>\n      <td>NaN</td>\n      <td>NaN</td>\n      <td>NaN</td>\n      <td>NaN</td>\n      <td>NaN</td>\n      <td>NaN</td>\n      <td>NaN</td>\n      <td>NaN</td>\n    </tr>\n    <tr>\n      <th>3</th>\n      <td>sub004</td>\n      <td>0</td>\n      <td>0</td>\n      <td>0</td>\n      <td>-3235.0</td>\n      <td>3</td>\n      <td>-12651.0</td>\n      <td>9.0</td>\n      <td>-16987.0</td>\n      <td>NaN</td>\n      <td>NaN</td>\n      <td>NaN</td>\n      <td>NaN</td>\n      <td>NaN</td>\n      <td>NaN</td>\n      <td>NaN</td>\n      <td>NaN</td>\n      <td>NaN</td>\n      <td>NaN</td>\n    </tr>\n    <tr>\n      <th>4</th>\n      <td>sub005</td>\n      <td>0</td>\n      <td>0</td>\n      <td>0</td>\n      <td>-24210.0</td>\n      <td>3</td>\n      <td>-34494.0</td>\n      <td>NaN</td>\n      <td>NaN</td>\n      <td>NaN</td>\n      <td>NaN</td>\n      <td>NaN</td>\n      <td>NaN</td>\n      <td>NaN</td>\n      <td>NaN</td>\n      <td>NaN</td>\n      <td>NaN</td>\n      <td>NaN</td>\n      <td>NaN</td>\n    </tr>\n    <tr>\n      <th>...</th>\n      <td>...</td>\n      <td>...</td>\n      <td>...</td>\n      <td>...</td>\n      <td>...</td>\n      <td>...</td>\n      <td>...</td>\n      <td>...</td>\n      <td>...</td>\n      <td>...</td>\n      <td>...</td>\n      <td>...</td>\n      <td>...</td>\n      <td>...</td>\n      <td>...</td>\n      <td>...</td>\n      <td>...</td>\n      <td>...</td>\n      <td>...</td>\n    </tr>\n    <tr>\n      <th>95</th>\n      <td>sub096</td>\n      <td>0</td>\n      <td>0</td>\n      <td>0</td>\n      <td>143.0</td>\n      <td>3</td>\n      <td>3960.0</td>\n      <td>10.0</td>\n      <td>5736.0</td>\n      <td>17.0</td>\n      <td>-5720.0</td>\n      <td>24.0</td>\n      <td>-5951.0</td>\n      <td>NaN</td>\n      <td>NaN</td>\n      <td>NaN</td>\n      <td>NaN</td>\n      <td>NaN</td>\n      <td>NaN</td>\n    </tr>\n    <tr>\n      <th>96</th>\n      <td>sub097</td>\n      <td>0</td>\n      <td>0</td>\n      <td>1</td>\n      <td>-1592.0</td>\n      <td>7</td>\n      <td>-8911.0</td>\n      <td>NaN</td>\n      <td>NaN</td>\n      <td>NaN</td>\n      <td>NaN</td>\n      <td>NaN</td>\n      <td>NaN</td>\n      <td>NaN</td>\n      <td>NaN</td>\n      <td>NaN</td>\n      <td>NaN</td>\n      <td>NaN</td>\n      <td>NaN</td>\n    </tr>\n    <tr>\n      <th>97</th>\n      <td>sub098</td>\n      <td>0</td>\n      <td>0</td>\n      <td>1</td>\n      <td>-10861.0</td>\n      <td>7</td>\n      <td>-13442.0</td>\n      <td>23.0</td>\n      <td>798.0</td>\n      <td>37.0</td>\n      <td>-22580.0</td>\n      <td>NaN</td>\n      <td>NaN</td>\n      <td>NaN</td>\n      <td>NaN</td>\n      <td>NaN</td>\n      <td>NaN</td>\n      <td>NaN</td>\n      <td>NaN</td>\n    </tr>\n    <tr>\n      <th>98</th>\n      <td>sub099</td>\n      <td>0</td>\n      <td>0</td>\n      <td>0</td>\n      <td>9864.0</td>\n      <td>1</td>\n      <td>21280.0</td>\n      <td>NaN</td>\n      <td>NaN</td>\n      <td>NaN</td>\n      <td>NaN</td>\n      <td>NaN</td>\n      <td>NaN</td>\n      <td>NaN</td>\n      <td>NaN</td>\n      <td>NaN</td>\n      <td>NaN</td>\n      <td>NaN</td>\n      <td>NaN</td>\n    </tr>\n    <tr>\n      <th>99</th>\n      <td>sub100</td>\n      <td>0</td>\n      <td>0</td>\n      <td>1</td>\n      <td>-1334.0</td>\n      <td>8</td>\n      <td>-4176.0</td>\n      <td>NaN</td>\n      <td>NaN</td>\n      <td>NaN</td>\n      <td>NaN</td>\n      <td>NaN</td>\n      <td>NaN</td>\n      <td>NaN</td>\n      <td>NaN</td>\n      <td>NaN</td>\n      <td>NaN</td>\n      <td>NaN</td>\n      <td>NaN</td>\n    </tr>\n  </tbody>\n</table>\n<p>100 rows × 19 columns</p>\n</div>"
     },
     "execution_count": 329,
     "metadata": {},
     "output_type": "execute_result"
    }
   ],
   "source": [
    "#table2_a_1处理时间点数据，改成days\n",
    "i=3\n",
    "while i<=18:\n",
    "    table2_a_1.iloc[:,i]=table2_a_1.iloc[:,i]-table2_a_1.iloc[:,1]\n",
    "    table2_a_1.iloc[:,i]=table2_a_1.iloc[:,i].dt.days\n",
    "    i+=2\n",
    "table2_a_1.iloc[:,1]=table2_a_1.iloc[:,1]-table2_a_1.iloc[:,1]\n",
    "table2_a_1.iloc[:,1]=table2_a_1.iloc[:,1].dt.days\n",
    "table2_a_1"
   ],
   "metadata": {
    "collapsed": false,
    "pycharm": {
     "name": "#%%\n"
    }
   }
  },
  {
   "cell_type": "code",
   "execution_count": 330,
   "outputs": [
    {
     "data": {
      "text/plain": "ID              object\n入院首次检查时间点        int64\nED_volume        int64\n随访1时间点           int64\nED_volume.1    float64\n随访2时间点           int64\nED_volume.2    float64\n随访3时间点         float64\nED_volume.3    float64\n随访4时间点         float64\nED_volume.4    float64\n随访5时间点         float64\nED_volume.5    float64\n随访6时间点         float64\nED_volume.6    float64\n随访7时间点         float64\nED_volume.7    float64\n随访8时间点         float64\nED_volume.8    float64\ndtype: object"
     },
     "execution_count": 330,
     "metadata": {},
     "output_type": "execute_result"
    }
   ],
   "source": [
    "table2_a_1.dtypes"
   ],
   "metadata": {
    "collapsed": false,
    "pycharm": {
     "name": "#%%\n"
    }
   }
  },
  {
   "cell_type": "code",
   "execution_count": 331,
   "outputs": [
    {
     "data": {
      "text/plain": "        ID  入院首次检查时间点  ED_volume  随访1时间点  ED_volume.1  随访2时间点  ED_volume.2  \\\n0   sub001          0          0       0       8979.0       5      32828.0   \n1   sub002          0          0       0       -136.0       2       4889.0   \n2   sub003          0          0       0       8671.0       1      17146.0   \n3   sub004          0          0       0      -3235.0       3     -12651.0   \n4   sub005          0          0       0     -24210.0       3     -34494.0   \n..     ...        ...        ...     ...          ...     ...          ...   \n95  sub096          0          0       0        143.0       3       3960.0   \n96  sub097          0          0       1      -1592.0       7      -8911.0   \n97  sub098          0          0       1     -10861.0       7     -13442.0   \n98  sub099          0          0       0       9864.0       1      21280.0   \n99  sub100          0          0       1      -1334.0       8      -4176.0   \n\n    随访3时间点  ED_volume.3  随访4时间点  ED_volume.4  随访5时间点  ED_volume.5  随访6时间点  \\\n0     10.0      58874.0    17.0      77639.0     NaN          NaN     NaN   \n1     18.0      11342.0    46.0     -23526.0     NaN          NaN     NaN   \n2      NaN          NaN     NaN          NaN     NaN          NaN     NaN   \n3      9.0     -16987.0     NaN          NaN     NaN          NaN     NaN   \n4      NaN          NaN     NaN          NaN     NaN          NaN     NaN   \n..     ...          ...     ...          ...     ...          ...     ...   \n95    10.0       5736.0    17.0      -5720.0    24.0      -5951.0     NaN   \n96     NaN          NaN     NaN          NaN     NaN          NaN     NaN   \n97    23.0        798.0    37.0     -22580.0     NaN          NaN     NaN   \n98     NaN          NaN     NaN          NaN     NaN          NaN     NaN   \n99     NaN          NaN     NaN          NaN     NaN          NaN     NaN   \n\n    ED_volume.6  随访7时间点  ED_volume.7  随访8时间点  ED_volume.8  \n0           NaN     NaN          NaN     NaN          NaN  \n1           NaN     NaN          NaN     NaN          NaN  \n2           NaN     NaN          NaN     NaN          NaN  \n3           NaN     NaN          NaN     NaN          NaN  \n4           NaN     NaN          NaN     NaN          NaN  \n..          ...     ...          ...     ...          ...  \n95          NaN     NaN          NaN     NaN          NaN  \n96          NaN     NaN          NaN     NaN          NaN  \n97          NaN     NaN          NaN     NaN          NaN  \n98          NaN     NaN          NaN     NaN          NaN  \n99          NaN     NaN          NaN     NaN          NaN  \n\n[100 rows x 19 columns]",
      "text/html": "<div>\n<style scoped>\n    .dataframe tbody tr th:only-of-type {\n        vertical-align: middle;\n    }\n\n    .dataframe tbody tr th {\n        vertical-align: top;\n    }\n\n    .dataframe thead th {\n        text-align: right;\n    }\n</style>\n<table border=\"1\" class=\"dataframe\">\n  <thead>\n    <tr style=\"text-align: right;\">\n      <th></th>\n      <th>ID</th>\n      <th>入院首次检查时间点</th>\n      <th>ED_volume</th>\n      <th>随访1时间点</th>\n      <th>ED_volume.1</th>\n      <th>随访2时间点</th>\n      <th>ED_volume.2</th>\n      <th>随访3时间点</th>\n      <th>ED_volume.3</th>\n      <th>随访4时间点</th>\n      <th>ED_volume.4</th>\n      <th>随访5时间点</th>\n      <th>ED_volume.5</th>\n      <th>随访6时间点</th>\n      <th>ED_volume.6</th>\n      <th>随访7时间点</th>\n      <th>ED_volume.7</th>\n      <th>随访8时间点</th>\n      <th>ED_volume.8</th>\n    </tr>\n  </thead>\n  <tbody>\n    <tr>\n      <th>0</th>\n      <td>sub001</td>\n      <td>0</td>\n      <td>0</td>\n      <td>0</td>\n      <td>8979.0</td>\n      <td>5</td>\n      <td>32828.0</td>\n      <td>10.0</td>\n      <td>58874.0</td>\n      <td>17.0</td>\n      <td>77639.0</td>\n      <td>NaN</td>\n      <td>NaN</td>\n      <td>NaN</td>\n      <td>NaN</td>\n      <td>NaN</td>\n      <td>NaN</td>\n      <td>NaN</td>\n      <td>NaN</td>\n    </tr>\n    <tr>\n      <th>1</th>\n      <td>sub002</td>\n      <td>0</td>\n      <td>0</td>\n      <td>0</td>\n      <td>-136.0</td>\n      <td>2</td>\n      <td>4889.0</td>\n      <td>18.0</td>\n      <td>11342.0</td>\n      <td>46.0</td>\n      <td>-23526.0</td>\n      <td>NaN</td>\n      <td>NaN</td>\n      <td>NaN</td>\n      <td>NaN</td>\n      <td>NaN</td>\n      <td>NaN</td>\n      <td>NaN</td>\n      <td>NaN</td>\n    </tr>\n    <tr>\n      <th>2</th>\n      <td>sub003</td>\n      <td>0</td>\n      <td>0</td>\n      <td>0</td>\n      <td>8671.0</td>\n      <td>1</td>\n      <td>17146.0</td>\n      <td>NaN</td>\n      <td>NaN</td>\n      <td>NaN</td>\n      <td>NaN</td>\n      <td>NaN</td>\n      <td>NaN</td>\n      <td>NaN</td>\n      <td>NaN</td>\n      <td>NaN</td>\n      <td>NaN</td>\n      <td>NaN</td>\n      <td>NaN</td>\n    </tr>\n    <tr>\n      <th>3</th>\n      <td>sub004</td>\n      <td>0</td>\n      <td>0</td>\n      <td>0</td>\n      <td>-3235.0</td>\n      <td>3</td>\n      <td>-12651.0</td>\n      <td>9.0</td>\n      <td>-16987.0</td>\n      <td>NaN</td>\n      <td>NaN</td>\n      <td>NaN</td>\n      <td>NaN</td>\n      <td>NaN</td>\n      <td>NaN</td>\n      <td>NaN</td>\n      <td>NaN</td>\n      <td>NaN</td>\n      <td>NaN</td>\n    </tr>\n    <tr>\n      <th>4</th>\n      <td>sub005</td>\n      <td>0</td>\n      <td>0</td>\n      <td>0</td>\n      <td>-24210.0</td>\n      <td>3</td>\n      <td>-34494.0</td>\n      <td>NaN</td>\n      <td>NaN</td>\n      <td>NaN</td>\n      <td>NaN</td>\n      <td>NaN</td>\n      <td>NaN</td>\n      <td>NaN</td>\n      <td>NaN</td>\n      <td>NaN</td>\n      <td>NaN</td>\n      <td>NaN</td>\n      <td>NaN</td>\n    </tr>\n    <tr>\n      <th>...</th>\n      <td>...</td>\n      <td>...</td>\n      <td>...</td>\n      <td>...</td>\n      <td>...</td>\n      <td>...</td>\n      <td>...</td>\n      <td>...</td>\n      <td>...</td>\n      <td>...</td>\n      <td>...</td>\n      <td>...</td>\n      <td>...</td>\n      <td>...</td>\n      <td>...</td>\n      <td>...</td>\n      <td>...</td>\n      <td>...</td>\n      <td>...</td>\n    </tr>\n    <tr>\n      <th>95</th>\n      <td>sub096</td>\n      <td>0</td>\n      <td>0</td>\n      <td>0</td>\n      <td>143.0</td>\n      <td>3</td>\n      <td>3960.0</td>\n      <td>10.0</td>\n      <td>5736.0</td>\n      <td>17.0</td>\n      <td>-5720.0</td>\n      <td>24.0</td>\n      <td>-5951.0</td>\n      <td>NaN</td>\n      <td>NaN</td>\n      <td>NaN</td>\n      <td>NaN</td>\n      <td>NaN</td>\n      <td>NaN</td>\n    </tr>\n    <tr>\n      <th>96</th>\n      <td>sub097</td>\n      <td>0</td>\n      <td>0</td>\n      <td>1</td>\n      <td>-1592.0</td>\n      <td>7</td>\n      <td>-8911.0</td>\n      <td>NaN</td>\n      <td>NaN</td>\n      <td>NaN</td>\n      <td>NaN</td>\n      <td>NaN</td>\n      <td>NaN</td>\n      <td>NaN</td>\n      <td>NaN</td>\n      <td>NaN</td>\n      <td>NaN</td>\n      <td>NaN</td>\n      <td>NaN</td>\n    </tr>\n    <tr>\n      <th>97</th>\n      <td>sub098</td>\n      <td>0</td>\n      <td>0</td>\n      <td>1</td>\n      <td>-10861.0</td>\n      <td>7</td>\n      <td>-13442.0</td>\n      <td>23.0</td>\n      <td>798.0</td>\n      <td>37.0</td>\n      <td>-22580.0</td>\n      <td>NaN</td>\n      <td>NaN</td>\n      <td>NaN</td>\n      <td>NaN</td>\n      <td>NaN</td>\n      <td>NaN</td>\n      <td>NaN</td>\n      <td>NaN</td>\n    </tr>\n    <tr>\n      <th>98</th>\n      <td>sub099</td>\n      <td>0</td>\n      <td>0</td>\n      <td>0</td>\n      <td>9864.0</td>\n      <td>1</td>\n      <td>21280.0</td>\n      <td>NaN</td>\n      <td>NaN</td>\n      <td>NaN</td>\n      <td>NaN</td>\n      <td>NaN</td>\n      <td>NaN</td>\n      <td>NaN</td>\n      <td>NaN</td>\n      <td>NaN</td>\n      <td>NaN</td>\n      <td>NaN</td>\n      <td>NaN</td>\n    </tr>\n    <tr>\n      <th>99</th>\n      <td>sub100</td>\n      <td>0</td>\n      <td>0</td>\n      <td>1</td>\n      <td>-1334.0</td>\n      <td>8</td>\n      <td>-4176.0</td>\n      <td>NaN</td>\n      <td>NaN</td>\n      <td>NaN</td>\n      <td>NaN</td>\n      <td>NaN</td>\n      <td>NaN</td>\n      <td>NaN</td>\n      <td>NaN</td>\n      <td>NaN</td>\n      <td>NaN</td>\n      <td>NaN</td>\n      <td>NaN</td>\n    </tr>\n  </tbody>\n</table>\n<p>100 rows × 19 columns</p>\n</div>"
     },
     "execution_count": 331,
     "metadata": {},
     "output_type": "execute_result"
    }
   ],
   "source": [
    "# 建立table2_a_1副本\n",
    "table2_a_1_copy = table2_a_1.copy()\n",
    "table2_a_1_copy"
   ],
   "metadata": {
    "collapsed": false,
    "pycharm": {
     "name": "#%%\n"
    }
   }
  },
  {
   "cell_type": "code",
   "execution_count": 332,
   "outputs": [
    {
     "data": {
      "text/plain": "    入院首次检查时间点  ED_volume  随访1时间点  ED_volume.1  随访2时间点  ED_volume.2  随访3时间点  \\\n0           0          0       0       8979.0       5      32828.0    10.0   \n1           0          0       0       -136.0       2       4889.0    18.0   \n2           0          0       0       8671.0       1      17146.0     NaN   \n3           0          0       0      -3235.0       3     -12651.0     9.0   \n4           0          0       0     -24210.0       3     -34494.0     NaN   \n..        ...        ...     ...          ...     ...          ...     ...   \n95          0          0       0        143.0       3       3960.0    10.0   \n96          0          0       1      -1592.0       7      -8911.0     NaN   \n97          0          0       1     -10861.0       7     -13442.0    23.0   \n98          0          0       0       9864.0       1      21280.0     NaN   \n99          0          0       1      -1334.0       8      -4176.0     NaN   \n\n    ED_volume.3  随访4时间点  ED_volume.4  随访5时间点  ED_volume.5  随访6时间点  \\\n0       58874.0    17.0      77639.0     NaN          NaN     NaN   \n1       11342.0    46.0     -23526.0     NaN          NaN     NaN   \n2           NaN     NaN          NaN     NaN          NaN     NaN   \n3      -16987.0     NaN          NaN     NaN          NaN     NaN   \n4           NaN     NaN          NaN     NaN          NaN     NaN   \n..          ...     ...          ...     ...          ...     ...   \n95       5736.0    17.0      -5720.0    24.0      -5951.0     NaN   \n96          NaN     NaN          NaN     NaN          NaN     NaN   \n97        798.0    37.0     -22580.0     NaN          NaN     NaN   \n98          NaN     NaN          NaN     NaN          NaN     NaN   \n99          NaN     NaN          NaN     NaN          NaN     NaN   \n\n    ED_volume.6  随访7时间点  ED_volume.7  随访8时间点  ED_volume.8  \n0           NaN     NaN          NaN     NaN          NaN  \n1           NaN     NaN          NaN     NaN          NaN  \n2           NaN     NaN          NaN     NaN          NaN  \n3           NaN     NaN          NaN     NaN          NaN  \n4           NaN     NaN          NaN     NaN          NaN  \n..          ...     ...          ...     ...          ...  \n95          NaN     NaN          NaN     NaN          NaN  \n96          NaN     NaN          NaN     NaN          NaN  \n97          NaN     NaN          NaN     NaN          NaN  \n98          NaN     NaN          NaN     NaN          NaN  \n99          NaN     NaN          NaN     NaN          NaN  \n\n[100 rows x 18 columns]",
      "text/html": "<div>\n<style scoped>\n    .dataframe tbody tr th:only-of-type {\n        vertical-align: middle;\n    }\n\n    .dataframe tbody tr th {\n        vertical-align: top;\n    }\n\n    .dataframe thead th {\n        text-align: right;\n    }\n</style>\n<table border=\"1\" class=\"dataframe\">\n  <thead>\n    <tr style=\"text-align: right;\">\n      <th></th>\n      <th>入院首次检查时间点</th>\n      <th>ED_volume</th>\n      <th>随访1时间点</th>\n      <th>ED_volume.1</th>\n      <th>随访2时间点</th>\n      <th>ED_volume.2</th>\n      <th>随访3时间点</th>\n      <th>ED_volume.3</th>\n      <th>随访4时间点</th>\n      <th>ED_volume.4</th>\n      <th>随访5时间点</th>\n      <th>ED_volume.5</th>\n      <th>随访6时间点</th>\n      <th>ED_volume.6</th>\n      <th>随访7时间点</th>\n      <th>ED_volume.7</th>\n      <th>随访8时间点</th>\n      <th>ED_volume.8</th>\n    </tr>\n  </thead>\n  <tbody>\n    <tr>\n      <th>0</th>\n      <td>0</td>\n      <td>0</td>\n      <td>0</td>\n      <td>8979.0</td>\n      <td>5</td>\n      <td>32828.0</td>\n      <td>10.0</td>\n      <td>58874.0</td>\n      <td>17.0</td>\n      <td>77639.0</td>\n      <td>NaN</td>\n      <td>NaN</td>\n      <td>NaN</td>\n      <td>NaN</td>\n      <td>NaN</td>\n      <td>NaN</td>\n      <td>NaN</td>\n      <td>NaN</td>\n    </tr>\n    <tr>\n      <th>1</th>\n      <td>0</td>\n      <td>0</td>\n      <td>0</td>\n      <td>-136.0</td>\n      <td>2</td>\n      <td>4889.0</td>\n      <td>18.0</td>\n      <td>11342.0</td>\n      <td>46.0</td>\n      <td>-23526.0</td>\n      <td>NaN</td>\n      <td>NaN</td>\n      <td>NaN</td>\n      <td>NaN</td>\n      <td>NaN</td>\n      <td>NaN</td>\n      <td>NaN</td>\n      <td>NaN</td>\n    </tr>\n    <tr>\n      <th>2</th>\n      <td>0</td>\n      <td>0</td>\n      <td>0</td>\n      <td>8671.0</td>\n      <td>1</td>\n      <td>17146.0</td>\n      <td>NaN</td>\n      <td>NaN</td>\n      <td>NaN</td>\n      <td>NaN</td>\n      <td>NaN</td>\n      <td>NaN</td>\n      <td>NaN</td>\n      <td>NaN</td>\n      <td>NaN</td>\n      <td>NaN</td>\n      <td>NaN</td>\n      <td>NaN</td>\n    </tr>\n    <tr>\n      <th>3</th>\n      <td>0</td>\n      <td>0</td>\n      <td>0</td>\n      <td>-3235.0</td>\n      <td>3</td>\n      <td>-12651.0</td>\n      <td>9.0</td>\n      <td>-16987.0</td>\n      <td>NaN</td>\n      <td>NaN</td>\n      <td>NaN</td>\n      <td>NaN</td>\n      <td>NaN</td>\n      <td>NaN</td>\n      <td>NaN</td>\n      <td>NaN</td>\n      <td>NaN</td>\n      <td>NaN</td>\n    </tr>\n    <tr>\n      <th>4</th>\n      <td>0</td>\n      <td>0</td>\n      <td>0</td>\n      <td>-24210.0</td>\n      <td>3</td>\n      <td>-34494.0</td>\n      <td>NaN</td>\n      <td>NaN</td>\n      <td>NaN</td>\n      <td>NaN</td>\n      <td>NaN</td>\n      <td>NaN</td>\n      <td>NaN</td>\n      <td>NaN</td>\n      <td>NaN</td>\n      <td>NaN</td>\n      <td>NaN</td>\n      <td>NaN</td>\n    </tr>\n    <tr>\n      <th>...</th>\n      <td>...</td>\n      <td>...</td>\n      <td>...</td>\n      <td>...</td>\n      <td>...</td>\n      <td>...</td>\n      <td>...</td>\n      <td>...</td>\n      <td>...</td>\n      <td>...</td>\n      <td>...</td>\n      <td>...</td>\n      <td>...</td>\n      <td>...</td>\n      <td>...</td>\n      <td>...</td>\n      <td>...</td>\n      <td>...</td>\n    </tr>\n    <tr>\n      <th>95</th>\n      <td>0</td>\n      <td>0</td>\n      <td>0</td>\n      <td>143.0</td>\n      <td>3</td>\n      <td>3960.0</td>\n      <td>10.0</td>\n      <td>5736.0</td>\n      <td>17.0</td>\n      <td>-5720.0</td>\n      <td>24.0</td>\n      <td>-5951.0</td>\n      <td>NaN</td>\n      <td>NaN</td>\n      <td>NaN</td>\n      <td>NaN</td>\n      <td>NaN</td>\n      <td>NaN</td>\n    </tr>\n    <tr>\n      <th>96</th>\n      <td>0</td>\n      <td>0</td>\n      <td>1</td>\n      <td>-1592.0</td>\n      <td>7</td>\n      <td>-8911.0</td>\n      <td>NaN</td>\n      <td>NaN</td>\n      <td>NaN</td>\n      <td>NaN</td>\n      <td>NaN</td>\n      <td>NaN</td>\n      <td>NaN</td>\n      <td>NaN</td>\n      <td>NaN</td>\n      <td>NaN</td>\n      <td>NaN</td>\n      <td>NaN</td>\n    </tr>\n    <tr>\n      <th>97</th>\n      <td>0</td>\n      <td>0</td>\n      <td>1</td>\n      <td>-10861.0</td>\n      <td>7</td>\n      <td>-13442.0</td>\n      <td>23.0</td>\n      <td>798.0</td>\n      <td>37.0</td>\n      <td>-22580.0</td>\n      <td>NaN</td>\n      <td>NaN</td>\n      <td>NaN</td>\n      <td>NaN</td>\n      <td>NaN</td>\n      <td>NaN</td>\n      <td>NaN</td>\n      <td>NaN</td>\n    </tr>\n    <tr>\n      <th>98</th>\n      <td>0</td>\n      <td>0</td>\n      <td>0</td>\n      <td>9864.0</td>\n      <td>1</td>\n      <td>21280.0</td>\n      <td>NaN</td>\n      <td>NaN</td>\n      <td>NaN</td>\n      <td>NaN</td>\n      <td>NaN</td>\n      <td>NaN</td>\n      <td>NaN</td>\n      <td>NaN</td>\n      <td>NaN</td>\n      <td>NaN</td>\n      <td>NaN</td>\n      <td>NaN</td>\n    </tr>\n    <tr>\n      <th>99</th>\n      <td>0</td>\n      <td>0</td>\n      <td>1</td>\n      <td>-1334.0</td>\n      <td>8</td>\n      <td>-4176.0</td>\n      <td>NaN</td>\n      <td>NaN</td>\n      <td>NaN</td>\n      <td>NaN</td>\n      <td>NaN</td>\n      <td>NaN</td>\n      <td>NaN</td>\n      <td>NaN</td>\n      <td>NaN</td>\n      <td>NaN</td>\n      <td>NaN</td>\n      <td>NaN</td>\n    </tr>\n  </tbody>\n</table>\n<p>100 rows × 18 columns</p>\n</div>"
     },
     "execution_count": 332,
     "metadata": {},
     "output_type": "execute_result"
    }
   ],
   "source": [
    "#table2_a_1去掉'ID'列\n",
    "table2_a_1=table2_a_1.drop('ID',axis=1)\n",
    "table2_a_1"
   ],
   "metadata": {
    "collapsed": false,
    "pycharm": {
     "name": "#%%\n"
    }
   }
  },
  {
   "cell_type": "code",
   "execution_count": 333,
   "outputs": [],
   "source": [
    "#把table2_a_1竖向切割后堆叠\n",
    "tables=[]\n",
    "i=1\n",
    "while i<=18:\n",
    "    df=table2_a_1.iloc[:,i-1:i+1]\n",
    "    df=df.rename(columns={df.columns[0]:'时间点',df.columns[1]:'ED_volume'})\n",
    "    tables.append(df)\n",
    "    i+=2\n",
    "stacked_df=pd.concat(tables,axis=0,ignore_index=True)"
   ],
   "metadata": {
    "collapsed": false,
    "pycharm": {
     "name": "#%%\n"
    }
   }
  },
  {
   "cell_type": "code",
   "execution_count": 334,
   "outputs": [
    {
     "data": {
      "text/plain": "       时间点  ED_volume\n0      0.0        0.0\n162    0.0     1509.0\n161    0.0     2846.0\n160    0.0     5918.0\n159    0.0    11295.0\n..     ...        ...\n543  155.0   -26083.0\n480  179.0    71156.0\n493  180.0    -7667.0\n551  188.0    -7036.0\n767  199.0   -14681.0\n\n[351 rows x 2 columns]",
      "text/html": "<div>\n<style scoped>\n    .dataframe tbody tr th:only-of-type {\n        vertical-align: middle;\n    }\n\n    .dataframe tbody tr th {\n        vertical-align: top;\n    }\n\n    .dataframe thead th {\n        text-align: right;\n    }\n</style>\n<table border=\"1\" class=\"dataframe\">\n  <thead>\n    <tr style=\"text-align: right;\">\n      <th></th>\n      <th>时间点</th>\n      <th>ED_volume</th>\n    </tr>\n  </thead>\n  <tbody>\n    <tr>\n      <th>0</th>\n      <td>0.0</td>\n      <td>0.0</td>\n    </tr>\n    <tr>\n      <th>162</th>\n      <td>0.0</td>\n      <td>1509.0</td>\n    </tr>\n    <tr>\n      <th>161</th>\n      <td>0.0</td>\n      <td>2846.0</td>\n    </tr>\n    <tr>\n      <th>160</th>\n      <td>0.0</td>\n      <td>5918.0</td>\n    </tr>\n    <tr>\n      <th>159</th>\n      <td>0.0</td>\n      <td>11295.0</td>\n    </tr>\n    <tr>\n      <th>...</th>\n      <td>...</td>\n      <td>...</td>\n    </tr>\n    <tr>\n      <th>543</th>\n      <td>155.0</td>\n      <td>-26083.0</td>\n    </tr>\n    <tr>\n      <th>480</th>\n      <td>179.0</td>\n      <td>71156.0</td>\n    </tr>\n    <tr>\n      <th>493</th>\n      <td>180.0</td>\n      <td>-7667.0</td>\n    </tr>\n    <tr>\n      <th>551</th>\n      <td>188.0</td>\n      <td>-7036.0</td>\n    </tr>\n    <tr>\n      <th>767</th>\n      <td>199.0</td>\n      <td>-14681.0</td>\n    </tr>\n  </tbody>\n</table>\n<p>351 rows × 2 columns</p>\n</div>"
     },
     "execution_count": 334,
     "metadata": {},
     "output_type": "execute_result"
    }
   ],
   "source": [
    "#去掉空数据和重复数据，排序，去掉异常数据值\n",
    "stacked_df= stacked_df.dropna()\n",
    "stacked_df= stacked_df.drop_duplicates()\n",
    "stacked_df = stacked_df.sort_values(by='时间点', ascending=True)\n",
    "# stacked_df=stacked_df[stacked_df['ED_volume']<=8]\n",
    "# stacked_df=stacked_df[stacked_df['ED_volume']>=-1]\n",
    "stacked_df"
   ],
   "metadata": {
    "collapsed": false,
    "pycharm": {
     "name": "#%%\n"
    }
   }
  },
  {
   "cell_type": "code",
   "execution_count": 335,
   "outputs": [
    {
     "name": "stdout",
     "output_type": "stream",
     "text": [
      "时间点\n",
      "0.0       6871.608696\n",
      "1.0       8948.354167\n",
      "2.0      15573.000000\n",
      "3.0      17569.714286\n",
      "4.0       9934.687500\n",
      "5.0      33247.166667\n",
      "6.0       9145.444444\n",
      "7.0      17196.157895\n",
      "8.0       9466.000000\n",
      "9.0       7734.363636\n",
      "10.0      9430.000000\n",
      "11.0     32231.400000\n",
      "12.0     21821.900000\n",
      "13.0      6261.000000\n",
      "14.0     27483.800000\n",
      "15.0     18579.800000\n",
      "16.0     23595.800000\n",
      "17.0     25207.500000\n",
      "18.0      9819.200000\n",
      "19.0     35974.142857\n",
      "20.0      2935.000000\n",
      "21.0      4309.500000\n",
      "22.0     16379.000000\n",
      "23.0     36804.333333\n",
      "24.0     -8432.000000\n",
      "25.0     28637.333333\n",
      "26.0     49553.000000\n",
      "27.0      3883.000000\n",
      "28.0     38462.000000\n",
      "30.0      -160.000000\n",
      "31.0     -7940.000000\n",
      "32.0     -9374.000000\n",
      "33.0     -9558.000000\n",
      "34.0     -1500.000000\n",
      "37.0    -22580.000000\n",
      "38.0    -16887.000000\n",
      "39.0     20544.750000\n",
      "40.0     15883.000000\n",
      "43.0     -9961.000000\n",
      "44.0    -38512.000000\n",
      "46.0    -23526.000000\n",
      "48.0     -7264.000000\n",
      "51.0    -16801.000000\n",
      "52.0    -14155.000000\n",
      "55.0    -15091.000000\n",
      "58.0    -42357.000000\n",
      "69.0      -160.000000\n",
      "73.0     -9071.500000\n",
      "76.0    -14519.000000\n",
      "109.0   -14230.000000\n",
      "114.0     -398.000000\n",
      "155.0   -26083.000000\n",
      "179.0    71156.000000\n",
      "180.0    -7667.000000\n",
      "188.0    -7036.000000\n",
      "199.0   -14681.000000\n",
      "Name: ED_volume, dtype: float64\n",
      "[0.0, 1.0, 2.0, 3.0, 4.0, 5.0, 6.0, 7.0, 8.0, 9.0, 10.0, 11.0, 12.0, 13.0, 14.0, 15.0, 16.0, 17.0, 18.0, 19.0, 20.0, 21.0, 22.0, 23.0, 24.0, 25.0, 26.0, 27.0, 28.0, 30.0, 31.0, 32.0, 33.0, 34.0, 37.0, 38.0, 39.0, 40.0, 43.0, 44.0, 46.0, 48.0, 51.0, 52.0, 55.0, 58.0, 69.0, 73.0, 76.0, 109.0, 114.0, 155.0, 179.0, 180.0, 188.0, 199.0]\n"
     ]
    }
   ],
   "source": [
    "# groupby，.mean()\n",
    "grouped=stacked_df.groupby('时间点')\n",
    "ED_volume=grouped['ED_volume'].mean()\n",
    "print(ED_volume)\n",
    "Timepoint=list(grouped.groups.keys())\n",
    "print(Timepoint)"
   ],
   "metadata": {
    "collapsed": false,
    "pycharm": {
     "name": "#%%\n"
    }
   }
  },
  {
   "cell_type": "code",
   "execution_count": 336,
   "outputs": [
    {
     "data": {
      "text/plain": "<Figure size 640x480 with 1 Axes>",
      "image/png": "[encoded data removed]"
     },
     "metadata": {},
     "output_type": "display_data"
    }
   ],
   "source": [
    "#画散点图\n",
    "x=Timepoint\n",
    "y=ED_volume\n",
    "plt.plot(x,y,marker='o', color='b')\n",
    "# 添加标题和标签\n",
    "plt.title('2-a 水肿体积时间进展曲线', fontproperties=font_prop)\n",
    "plt.xlabel('时间点（天）', fontproperties=font_prop)\n",
    "plt.ylabel('水肿体积比（随访体积/首次体积）', fontproperties=font_prop)\n",
    "# 显示折线图\n",
    "plt.savefig(\"真实数据.jpg\")\n",
    "plt.show()"
   ],
   "metadata": {
    "collapsed": false,
    "pycharm": {
     "name": "#%%\n"
    }
   }
  },
  {
   "cell_type": "markdown",
   "source": [
    "### 2.机器学习"
   ],
   "metadata": {
    "collapsed": false,
    "pycharm": {
     "name": "#%% md\n"
    }
   }
  },
  {
   "cell_type": "code",
   "execution_count": 337,
   "outputs": [
    {
     "name": "stdout",
     "output_type": "stream",
     "text": [
      "<class 'list'>\n",
      "<class 'pandas.core.series.Series'>\n"
     ]
    }
   ],
   "source": [
    "# 训练集\n",
    "print(type(Timepoint))\n",
    "print(type(ED_volume))"
   ],
   "metadata": {
    "collapsed": false,
    "pycharm": {
     "name": "#%%\n"
    }
   }
  },
  {
   "cell_type": "code",
   "execution_count": 338,
   "outputs": [
    {
     "name": "stdout",
     "output_type": "stream",
     "text": [
      "<class 'numpy.ndarray'>\n"
     ]
    },
    {
     "data": {
      "text/plain": "<Figure size 640x480 with 1 Axes>",
      "image/png": "[encoded data removed]"
     },
     "metadata": {},
     "output_type": "display_data"
    }
   ],
   "source": [
    "# 随机森林回归\n",
    "x=np.array(Timepoint).reshape(-1, 1)\n",
    "y=ED_volume\n",
    "\n",
    "# 创建随机森林回归模型\n",
    "rf_regressor = RandomForestRegressor(n_estimators=100, random_state=42)\n",
    "\n",
    "# 训练模型\n",
    "rf_regressor.fit(x, y)\n",
    "\n",
    "# 预测\n",
    "y_pred = rf_regressor.predict(x)\n",
    "print(type(y_pred))\n",
    "# 可视化\n",
    "plt.scatter(x, y_pred, color='darkorange', label='data')\n",
    "plt.plot(x, y_pred, color='navy', lw=2)\n",
    "plt.xlabel('时间点（天）',fontproperties=font_prop)\n",
    "plt.ylabel('水肿体积比（随访体积/首次体积）',fontproperties=font_prop)\n",
    "plt.title('2-a 水肿体积时间进展拟合曲线',fontproperties=font_prop)\n",
    "plt.legend()\n",
    "plt.show()"
   ],
   "metadata": {
    "collapsed": false,
    "pycharm": {
     "name": "#%%\n"
    }
   }
  },
  {
   "cell_type": "markdown",
   "source": [
    "### 3.计算残差"
   ],
   "metadata": {
    "collapsed": false,
    "pycharm": {
     "name": "#%% md\n"
    }
   }
  },
  {
   "cell_type": "code",
   "execution_count": 339,
   "outputs": [],
   "source": [
    "# 按列处理\n",
    "# i=1\n",
    "# while i<=table2_a_1_copy.shape[1]:\n",
    "#     data=table2_a_1_copy.iloc[:,i].to_numpy()\n",
    "#     y_pred=rf_regressor.predict(data.reshape(-1,1))\n",
    "#     column_name=table2_a_1_copy.columns[i+1]+'.pred'\n",
    "#     table2_a_1_copy.insert(loc=i+1,column=column_name,value=y_pred)\n",
    "#     i+=2\n",
    "# table2_a_1_copy"
   ],
   "metadata": {
    "collapsed": false,
    "pycharm": {
     "name": "#%%\n"
    }
   }
  },
  {
   "cell_type": "code",
   "execution_count": 340,
   "outputs": [],
   "source": [
    "# 输出table2_2_a_copy\n",
    "output_file_path='D:\\Python8\\Mathmatics Modeling Competition E\\data\\ table2_2_a_copy.xlsx'\n",
    "table2_a_1_copy.to_excel(output_file_path,index=False)"
   ],
   "metadata": {
    "collapsed": false,
    "pycharm": {
     "name": "#%%\n"
    }
   }
  },
  {
   "cell_type": "code",
   "execution_count": 341,
   "outputs": [
    {
     "data": {
      "text/plain": "        ID  入院首次检查时间点  ED_volume  随访1时间点  ED_volume.1  随访2时间点  ED_volume.2  \\\n0   sub001          0          0       0       8979.0       5      32828.0   \n1   sub002          0          0       0       -136.0       2       4889.0   \n2   sub003          0          0       0       8671.0       1      17146.0   \n3   sub004          0          0       0      -3235.0       3     -12651.0   \n4   sub005          0          0       0     -24210.0       3     -34494.0   \n..     ...        ...        ...     ...          ...     ...          ...   \n95  sub096          0          0       0        143.0       3       3960.0   \n96  sub097          0          0       1      -1592.0       7      -8911.0   \n97  sub098          0          0       1     -10861.0       7     -13442.0   \n98  sub099          0          0       0       9864.0       1      21280.0   \n99  sub100          0          0       1      -1334.0       8      -4176.0   \n\n    随访3时间点  ED_volume.3  随访4时间点  ED_volume.4  随访5时间点  ED_volume.5  随访6时间点  \\\n0     10.0      58874.0    17.0      77639.0     NaN          NaN     NaN   \n1     18.0      11342.0    46.0     -23526.0     NaN          NaN     NaN   \n2      NaN          NaN     NaN          NaN     NaN          NaN     NaN   \n3      9.0     -16987.0     NaN          NaN     NaN          NaN     NaN   \n4      NaN          NaN     NaN          NaN     NaN          NaN     NaN   \n..     ...          ...     ...          ...     ...          ...     ...   \n95    10.0       5736.0    17.0      -5720.0    24.0      -5951.0     NaN   \n96     NaN          NaN     NaN          NaN     NaN          NaN     NaN   \n97    23.0        798.0    37.0     -22580.0     NaN          NaN     NaN   \n98     NaN          NaN     NaN          NaN     NaN          NaN     NaN   \n99     NaN          NaN     NaN          NaN     NaN          NaN     NaN   \n\n    ED_volume.6  随访7时间点  ED_volume.7  随访8时间点  ED_volume.8          平均残差  \n0           NaN     NaN          NaN     NaN          NaN  24156.569348  \n1           NaN     NaN          NaN     NaN          NaN   6549.373360  \n2           NaN     NaN          NaN     NaN          NaN   5461.690768  \n3           NaN     NaN          NaN     NaN          NaN  18789.914862  \n4           NaN     NaN          NaN     NaN          NaN  30795.881873  \n..          ...     ...          ...     ...          ...           ...  \n95          NaN     NaN          NaN     NaN          NaN  12044.750327  \n96          NaN     NaN          NaN     NaN          NaN  14813.979975  \n97          NaN     NaN          NaN     NaN          NaN  18051.625485  \n98          NaN     NaN          NaN     NaN          NaN   7237.357435  \n99          NaN     NaN          NaN     NaN          NaN  11759.744035  \n\n[100 rows x 20 columns]",
      "text/html": "<div>\n<style scoped>\n    .dataframe tbody tr th:only-of-type {\n        vertical-align: middle;\n    }\n\n    .dataframe tbody tr th {\n        vertical-align: top;\n    }\n\n    .dataframe thead th {\n        text-align: right;\n    }\n</style>\n<table border=\"1\" class=\"dataframe\">\n  <thead>\n    <tr style=\"text-align: right;\">\n      <th></th>\n      <th>ID</th>\n      <th>入院首次检查时间点</th>\n      <th>ED_volume</th>\n      <th>随访1时间点</th>\n      <th>ED_volume.1</th>\n      <th>随访2时间点</th>\n      <th>ED_volume.2</th>\n      <th>随访3时间点</th>\n      <th>ED_volume.3</th>\n      <th>随访4时间点</th>\n      <th>ED_volume.4</th>\n      <th>随访5时间点</th>\n      <th>ED_volume.5</th>\n      <th>随访6时间点</th>\n      <th>ED_volume.6</th>\n      <th>随访7时间点</th>\n      <th>ED_volume.7</th>\n      <th>随访8时间点</th>\n      <th>ED_volume.8</th>\n      <th>平均残差</th>\n    </tr>\n  </thead>\n  <tbody>\n    <tr>\n      <th>0</th>\n      <td>sub001</td>\n      <td>0</td>\n      <td>0</td>\n      <td>0</td>\n      <td>8979.0</td>\n      <td>5</td>\n      <td>32828.0</td>\n      <td>10.0</td>\n      <td>58874.0</td>\n      <td>17.0</td>\n      <td>77639.0</td>\n      <td>NaN</td>\n      <td>NaN</td>\n      <td>NaN</td>\n      <td>NaN</td>\n      <td>NaN</td>\n      <td>NaN</td>\n      <td>NaN</td>\n      <td>NaN</td>\n      <td>24156.569348</td>\n    </tr>\n    <tr>\n      <th>1</th>\n      <td>sub002</td>\n      <td>0</td>\n      <td>0</td>\n      <td>0</td>\n      <td>-136.0</td>\n      <td>2</td>\n      <td>4889.0</td>\n      <td>18.0</td>\n      <td>11342.0</td>\n      <td>46.0</td>\n      <td>-23526.0</td>\n      <td>NaN</td>\n      <td>NaN</td>\n      <td>NaN</td>\n      <td>NaN</td>\n      <td>NaN</td>\n      <td>NaN</td>\n      <td>NaN</td>\n      <td>NaN</td>\n      <td>6549.373360</td>\n    </tr>\n    <tr>\n      <th>2</th>\n      <td>sub003</td>\n      <td>0</td>\n      <td>0</td>\n      <td>0</td>\n      <td>8671.0</td>\n      <td>1</td>\n      <td>17146.0</td>\n      <td>NaN</td>\n      <td>NaN</td>\n      <td>NaN</td>\n      <td>NaN</td>\n      <td>NaN</td>\n      <td>NaN</td>\n      <td>NaN</td>\n      <td>NaN</td>\n      <td>NaN</td>\n      <td>NaN</td>\n      <td>NaN</td>\n      <td>NaN</td>\n      <td>5461.690768</td>\n    </tr>\n    <tr>\n      <th>3</th>\n      <td>sub004</td>\n      <td>0</td>\n      <td>0</td>\n      <td>0</td>\n      <td>-3235.0</td>\n      <td>3</td>\n      <td>-12651.0</td>\n      <td>9.0</td>\n      <td>-16987.0</td>\n      <td>NaN</td>\n      <td>NaN</td>\n      <td>NaN</td>\n      <td>NaN</td>\n      <td>NaN</td>\n      <td>NaN</td>\n      <td>NaN</td>\n      <td>NaN</td>\n      <td>NaN</td>\n      <td>NaN</td>\n      <td>18789.914862</td>\n    </tr>\n    <tr>\n      <th>4</th>\n      <td>sub005</td>\n      <td>0</td>\n      <td>0</td>\n      <td>0</td>\n      <td>-24210.0</td>\n      <td>3</td>\n      <td>-34494.0</td>\n      <td>NaN</td>\n      <td>NaN</td>\n      <td>NaN</td>\n      <td>NaN</td>\n      <td>NaN</td>\n      <td>NaN</td>\n      <td>NaN</td>\n      <td>NaN</td>\n      <td>NaN</td>\n      <td>NaN</td>\n      <td>NaN</td>\n      <td>NaN</td>\n      <td>30795.881873</td>\n    </tr>\n    <tr>\n      <th>...</th>\n      <td>...</td>\n      <td>...</td>\n      <td>...</td>\n      <td>...</td>\n      <td>...</td>\n      <td>...</td>\n      <td>...</td>\n      <td>...</td>\n      <td>...</td>\n      <td>...</td>\n      <td>...</td>\n      <td>...</td>\n      <td>...</td>\n      <td>...</td>\n      <td>...</td>\n      <td>...</td>\n      <td>...</td>\n      <td>...</td>\n      <td>...</td>\n      <td>...</td>\n    </tr>\n    <tr>\n      <th>95</th>\n      <td>sub096</td>\n      <td>0</td>\n      <td>0</td>\n      <td>0</td>\n      <td>143.0</td>\n      <td>3</td>\n      <td>3960.0</td>\n      <td>10.0</td>\n      <td>5736.0</td>\n      <td>17.0</td>\n      <td>-5720.0</td>\n      <td>24.0</td>\n      <td>-5951.0</td>\n      <td>NaN</td>\n      <td>NaN</td>\n      <td>NaN</td>\n      <td>NaN</td>\n      <td>NaN</td>\n      <td>NaN</td>\n      <td>12044.750327</td>\n    </tr>\n    <tr>\n      <th>96</th>\n      <td>sub097</td>\n      <td>0</td>\n      <td>0</td>\n      <td>1</td>\n      <td>-1592.0</td>\n      <td>7</td>\n      <td>-8911.0</td>\n      <td>NaN</td>\n      <td>NaN</td>\n      <td>NaN</td>\n      <td>NaN</td>\n      <td>NaN</td>\n      <td>NaN</td>\n      <td>NaN</td>\n      <td>NaN</td>\n      <td>NaN</td>\n      <td>NaN</td>\n      <td>NaN</td>\n      <td>NaN</td>\n      <td>14813.979975</td>\n    </tr>\n    <tr>\n      <th>97</th>\n      <td>sub098</td>\n      <td>0</td>\n      <td>0</td>\n      <td>1</td>\n      <td>-10861.0</td>\n      <td>7</td>\n      <td>-13442.0</td>\n      <td>23.0</td>\n      <td>798.0</td>\n      <td>37.0</td>\n      <td>-22580.0</td>\n      <td>NaN</td>\n      <td>NaN</td>\n      <td>NaN</td>\n      <td>NaN</td>\n      <td>NaN</td>\n      <td>NaN</td>\n      <td>NaN</td>\n      <td>NaN</td>\n      <td>18051.625485</td>\n    </tr>\n    <tr>\n      <th>98</th>\n      <td>sub099</td>\n      <td>0</td>\n      <td>0</td>\n      <td>0</td>\n      <td>9864.0</td>\n      <td>1</td>\n      <td>21280.0</td>\n      <td>NaN</td>\n      <td>NaN</td>\n      <td>NaN</td>\n      <td>NaN</td>\n      <td>NaN</td>\n      <td>NaN</td>\n      <td>NaN</td>\n      <td>NaN</td>\n      <td>NaN</td>\n      <td>NaN</td>\n      <td>NaN</td>\n      <td>NaN</td>\n      <td>7237.357435</td>\n    </tr>\n    <tr>\n      <th>99</th>\n      <td>sub100</td>\n      <td>0</td>\n      <td>0</td>\n      <td>1</td>\n      <td>-1334.0</td>\n      <td>8</td>\n      <td>-4176.0</td>\n      <td>NaN</td>\n      <td>NaN</td>\n      <td>NaN</td>\n      <td>NaN</td>\n      <td>NaN</td>\n      <td>NaN</td>\n      <td>NaN</td>\n      <td>NaN</td>\n      <td>NaN</td>\n      <td>NaN</td>\n      <td>NaN</td>\n      <td>NaN</td>\n      <td>11759.744035</td>\n    </tr>\n  </tbody>\n</table>\n<p>100 rows × 20 columns</p>\n</div>"
     },
     "execution_count": 341,
     "metadata": {},
     "output_type": "execute_result"
    }
   ],
   "source": [
    "# 按行处理\n",
    "i=0\n",
    "res_avg_list=[] # 存储各个患者的残差平均值\n",
    "while i<=99:\n",
    "    j=1\n",
    "    list_time=[] # 时间点数据的list，用于预测数据输入\n",
    "    list_ED_volume=[] # 真实数据的list\n",
    "    while j<=18:\n",
    "        if np.isnan(table2_a_1_copy.iloc[i,j]):\n",
    "            break\n",
    "        else:\n",
    "            list_time.append(table2_a_1_copy.iloc[i,j]) # 加入到时间点数据list\n",
    "            list_ED_volume.append(table2_a_1_copy.iloc[i,j+1]) # 加入到真实数据的list\n",
    "        j+=2\n",
    "    y_pred=rf_regressor.predict(np.array(list_time).reshape(-1,1)) # 用模型得到预测值，此时为ndarray类型\n",
    "    list_pred=y_pred.tolist() # 预测数据的list\n",
    "    # 取得两个预测值list与真实值list的数据差的绝对值\n",
    "    res_list = [abs(a - b) for a, b in zip(list_pred, list_ED_volume)] # 得到残差绝对值list\n",
    "    res_avg=sum(res_list)/len(res_list) # 求平均残差\n",
    "    res_avg_list.append(res_avg)\n",
    "    i+=1\n",
    "table2_a_1_copy['平均残差']=res_avg_list # 把数据写如“平均残差”列\n",
    "table2_a_1_copy"
   ],
   "metadata": {
    "collapsed": false,
    "pycharm": {
     "name": "#%%\n"
    }
   }
  },
  {
   "cell_type": "code",
   "execution_count": 342,
   "outputs": [],
   "source": [
    "# 输出table2_a_1_copy\n",
    "output_file_path='D:\\Python8\\Mathmatics Modeling Competition E\\data\\ table2_a_1_copy.xlsx'\n",
    "table2_a_1_copy.to_excel(output_file_path,index=False)"
   ],
   "metadata": {
    "collapsed": false,
    "pycharm": {
     "name": "#%%\n"
    }
   }
  }
 ],
 "metadata": {
  "kernelspec": {
   "display_name": "Python 3",
   "language": "python",
   "name": "python3"
  },
  "language_info": {
   "codemirror_mode": {
    "name": "ipython",
    "version": 2
   },
   "file_extension": ".py",
   "mimetype": "text/x-python",
   "name": "python",
   "nbconvert_exporter": "python",
   "pygments_lexer": "ipython2",
   "version": "2.7.6"
  }
 },
 "nbformat": 4,
 "nbformat_minor": 0
}